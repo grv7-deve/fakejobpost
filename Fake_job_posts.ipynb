{
  "nbformat": 4,
  "nbformat_minor": 0,
  "metadata": {
    "kernelspec": {
      "display_name": "Python 3",
      "language": "python",
      "name": "python3"
    },
    "language_info": {
      "codemirror_mode": {
        "name": "ipython",
        "version": 3
      },
      "file_extension": ".py",
      "mimetype": "text/x-python",
      "name": "python",
      "nbconvert_exporter": "python",
      "pygments_lexer": "ipython3",
      "version": "3.6.12"
    },
    "colab": {
      "name": "Fake_job_posts.ipynb",
      "provenance": [],
      "toc_visible": true
    }
  },
  "cells": [
    {
      "cell_type": "code",
      "metadata": {
        "id": "IGI9MAPUUMJt"
      },
      "source": [
        "#Import required Libraries\n",
        "import numpy as np\n",
        "import pandas as pd\n",
        "import seaborn as sb\n",
        "import matplotlib.pyplot as plt"
      ],
      "execution_count": null,
      "outputs": []
    },
    {
      "cell_type": "code",
      "metadata": {
        "id": "ujNkqQmHUMJy",
        "outputId": "a028d686-3c38-4d01-dc43-20fdd8d01a0a"
      },
      "source": [
        "#Reading csv file of dataset\n",
        " \n",
        "df = pd.read_csv(\"fake_job_postings.csv\")\n",
        "df.head()"
      ],
      "execution_count": null,
      "outputs": [
        {
          "output_type": "execute_result",
          "data": {
            "text/html": [
              "<div>\n",
              "<style scoped>\n",
              "    .dataframe tbody tr th:only-of-type {\n",
              "        vertical-align: middle;\n",
              "    }\n",
              "\n",
              "    .dataframe tbody tr th {\n",
              "        vertical-align: top;\n",
              "    }\n",
              "\n",
              "    .dataframe thead th {\n",
              "        text-align: right;\n",
              "    }\n",
              "</style>\n",
              "<table border=\"1\" class=\"dataframe\">\n",
              "  <thead>\n",
              "    <tr style=\"text-align: right;\">\n",
              "      <th></th>\n",
              "      <th>job_id</th>\n",
              "      <th>title</th>\n",
              "      <th>location</th>\n",
              "      <th>department</th>\n",
              "      <th>salary_range</th>\n",
              "      <th>company_profile</th>\n",
              "      <th>description</th>\n",
              "      <th>requirements</th>\n",
              "      <th>benefits</th>\n",
              "      <th>telecommuting</th>\n",
              "      <th>has_company_logo</th>\n",
              "      <th>has_questions</th>\n",
              "      <th>employment_type</th>\n",
              "      <th>required_experience</th>\n",
              "      <th>required_education</th>\n",
              "      <th>industry</th>\n",
              "      <th>function</th>\n",
              "      <th>fraudulent</th>\n",
              "    </tr>\n",
              "  </thead>\n",
              "  <tbody>\n",
              "    <tr>\n",
              "      <th>0</th>\n",
              "      <td>1</td>\n",
              "      <td>Marketing Intern</td>\n",
              "      <td>US, NY, New York</td>\n",
              "      <td>Marketing</td>\n",
              "      <td>NaN</td>\n",
              "      <td>We're Food52, and we've created a groundbreaki...</td>\n",
              "      <td>Food52, a fast-growing, James Beard Award-winn...</td>\n",
              "      <td>Experience with content management systems a m...</td>\n",
              "      <td>NaN</td>\n",
              "      <td>0</td>\n",
              "      <td>1</td>\n",
              "      <td>0</td>\n",
              "      <td>Other</td>\n",
              "      <td>Internship</td>\n",
              "      <td>NaN</td>\n",
              "      <td>NaN</td>\n",
              "      <td>Marketing</td>\n",
              "      <td>0</td>\n",
              "    </tr>\n",
              "    <tr>\n",
              "      <th>1</th>\n",
              "      <td>2</td>\n",
              "      <td>Customer Service - Cloud Video Production</td>\n",
              "      <td>NZ, , Auckland</td>\n",
              "      <td>Success</td>\n",
              "      <td>NaN</td>\n",
              "      <td>90 Seconds, the worlds Cloud Video Production ...</td>\n",
              "      <td>Organised - Focused - Vibrant - Awesome!Do you...</td>\n",
              "      <td>What we expect from you:Your key responsibilit...</td>\n",
              "      <td>What you will get from usThrough being part of...</td>\n",
              "      <td>0</td>\n",
              "      <td>1</td>\n",
              "      <td>0</td>\n",
              "      <td>Full-time</td>\n",
              "      <td>Not Applicable</td>\n",
              "      <td>NaN</td>\n",
              "      <td>Marketing and Advertising</td>\n",
              "      <td>Customer Service</td>\n",
              "      <td>0</td>\n",
              "    </tr>\n",
              "    <tr>\n",
              "      <th>2</th>\n",
              "      <td>3</td>\n",
              "      <td>Commissioning Machinery Assistant (CMA)</td>\n",
              "      <td>US, IA, Wever</td>\n",
              "      <td>NaN</td>\n",
              "      <td>NaN</td>\n",
              "      <td>Valor Services provides Workforce Solutions th...</td>\n",
              "      <td>Our client, located in Houston, is actively se...</td>\n",
              "      <td>Implement pre-commissioning and commissioning ...</td>\n",
              "      <td>NaN</td>\n",
              "      <td>0</td>\n",
              "      <td>1</td>\n",
              "      <td>0</td>\n",
              "      <td>NaN</td>\n",
              "      <td>NaN</td>\n",
              "      <td>NaN</td>\n",
              "      <td>NaN</td>\n",
              "      <td>NaN</td>\n",
              "      <td>0</td>\n",
              "    </tr>\n",
              "    <tr>\n",
              "      <th>3</th>\n",
              "      <td>4</td>\n",
              "      <td>Account Executive - Washington DC</td>\n",
              "      <td>US, DC, Washington</td>\n",
              "      <td>Sales</td>\n",
              "      <td>NaN</td>\n",
              "      <td>Our passion for improving quality of life thro...</td>\n",
              "      <td>THE COMPANY: ESRI – Environmental Systems Rese...</td>\n",
              "      <td>EDUCATION: Bachelor’s or Master’s in GIS, busi...</td>\n",
              "      <td>Our culture is anything but corporate—we have ...</td>\n",
              "      <td>0</td>\n",
              "      <td>1</td>\n",
              "      <td>0</td>\n",
              "      <td>Full-time</td>\n",
              "      <td>Mid-Senior level</td>\n",
              "      <td>Bachelor's Degree</td>\n",
              "      <td>Computer Software</td>\n",
              "      <td>Sales</td>\n",
              "      <td>0</td>\n",
              "    </tr>\n",
              "    <tr>\n",
              "      <th>4</th>\n",
              "      <td>5</td>\n",
              "      <td>Bill Review Manager</td>\n",
              "      <td>US, FL, Fort Worth</td>\n",
              "      <td>NaN</td>\n",
              "      <td>NaN</td>\n",
              "      <td>SpotSource Solutions LLC is a Global Human Cap...</td>\n",
              "      <td>JOB TITLE: Itemization Review ManagerLOCATION:...</td>\n",
              "      <td>QUALIFICATIONS:RN license in the State of Texa...</td>\n",
              "      <td>Full Benefits Offered</td>\n",
              "      <td>0</td>\n",
              "      <td>1</td>\n",
              "      <td>1</td>\n",
              "      <td>Full-time</td>\n",
              "      <td>Mid-Senior level</td>\n",
              "      <td>Bachelor's Degree</td>\n",
              "      <td>Hospital &amp; Health Care</td>\n",
              "      <td>Health Care Provider</td>\n",
              "      <td>0</td>\n",
              "    </tr>\n",
              "  </tbody>\n",
              "</table>\n",
              "</div>"
            ],
            "text/plain": [
              "   job_id                                      title            location  \\\n",
              "0       1                           Marketing Intern    US, NY, New York   \n",
              "1       2  Customer Service - Cloud Video Production      NZ, , Auckland   \n",
              "2       3    Commissioning Machinery Assistant (CMA)       US, IA, Wever   \n",
              "3       4          Account Executive - Washington DC  US, DC, Washington   \n",
              "4       5                        Bill Review Manager  US, FL, Fort Worth   \n",
              "\n",
              "  department salary_range                                    company_profile  \\\n",
              "0  Marketing          NaN  We're Food52, and we've created a groundbreaki...   \n",
              "1    Success          NaN  90 Seconds, the worlds Cloud Video Production ...   \n",
              "2        NaN          NaN  Valor Services provides Workforce Solutions th...   \n",
              "3      Sales          NaN  Our passion for improving quality of life thro...   \n",
              "4        NaN          NaN  SpotSource Solutions LLC is a Global Human Cap...   \n",
              "\n",
              "                                         description  \\\n",
              "0  Food52, a fast-growing, James Beard Award-winn...   \n",
              "1  Organised - Focused - Vibrant - Awesome!Do you...   \n",
              "2  Our client, located in Houston, is actively se...   \n",
              "3  THE COMPANY: ESRI – Environmental Systems Rese...   \n",
              "4  JOB TITLE: Itemization Review ManagerLOCATION:...   \n",
              "\n",
              "                                        requirements  \\\n",
              "0  Experience with content management systems a m...   \n",
              "1  What we expect from you:Your key responsibilit...   \n",
              "2  Implement pre-commissioning and commissioning ...   \n",
              "3  EDUCATION: Bachelor’s or Master’s in GIS, busi...   \n",
              "4  QUALIFICATIONS:RN license in the State of Texa...   \n",
              "\n",
              "                                            benefits  telecommuting  \\\n",
              "0                                                NaN              0   \n",
              "1  What you will get from usThrough being part of...              0   \n",
              "2                                                NaN              0   \n",
              "3  Our culture is anything but corporate—we have ...              0   \n",
              "4                              Full Benefits Offered              0   \n",
              "\n",
              "   has_company_logo  has_questions employment_type required_experience  \\\n",
              "0                 1              0           Other          Internship   \n",
              "1                 1              0       Full-time      Not Applicable   \n",
              "2                 1              0             NaN                 NaN   \n",
              "3                 1              0       Full-time    Mid-Senior level   \n",
              "4                 1              1       Full-time    Mid-Senior level   \n",
              "\n",
              "  required_education                   industry              function  \\\n",
              "0                NaN                        NaN             Marketing   \n",
              "1                NaN  Marketing and Advertising      Customer Service   \n",
              "2                NaN                        NaN                   NaN   \n",
              "3  Bachelor's Degree          Computer Software                 Sales   \n",
              "4  Bachelor's Degree     Hospital & Health Care  Health Care Provider   \n",
              "\n",
              "   fraudulent  \n",
              "0           0  \n",
              "1           0  \n",
              "2           0  \n",
              "3           0  \n",
              "4           0  "
            ]
          },
          "metadata": {
            "tags": []
          },
          "execution_count": 2
        }
      ]
    },
    {
      "cell_type": "code",
      "metadata": {
        "id": "BskE47LbUMJ1",
        "outputId": "e93df226-2680-4a41-b371-28532f0f2ee7"
      },
      "source": [
        "df.columns"
      ],
      "execution_count": null,
      "outputs": [
        {
          "output_type": "execute_result",
          "data": {
            "text/plain": [
              "Index(['job_id', 'title', 'location', 'department', 'salary_range',\n",
              "       'company_profile', 'description', 'requirements', 'benefits',\n",
              "       'telecommuting', 'has_company_logo', 'has_questions', 'employment_type',\n",
              "       'required_experience', 'required_education', 'industry', 'function',\n",
              "       'fraudulent'],\n",
              "      dtype='object')"
            ]
          },
          "metadata": {
            "tags": []
          },
          "execution_count": 3
        }
      ]
    },
    {
      "cell_type": "code",
      "metadata": {
        "id": "7EEAegVwUMJ2",
        "outputId": "cedcd789-0d27-48a0-bba0-2967d4acf44f"
      },
      "source": [
        "##Info about the data shape of data, type of individual columns\n",
        "df.info()"
      ],
      "execution_count": null,
      "outputs": [
        {
          "output_type": "stream",
          "text": [
            "<class 'pandas.core.frame.DataFrame'>\n",
            "RangeIndex: 17880 entries, 0 to 17879\n",
            "Data columns (total 18 columns):\n",
            " #   Column               Non-Null Count  Dtype \n",
            "---  ------               --------------  ----- \n",
            " 0   job_id               17880 non-null  int64 \n",
            " 1   title                17880 non-null  object\n",
            " 2   location             17534 non-null  object\n",
            " 3   department           6333 non-null   object\n",
            " 4   salary_range         2868 non-null   object\n",
            " 5   company_profile      14572 non-null  object\n",
            " 6   description          17879 non-null  object\n",
            " 7   requirements         15185 non-null  object\n",
            " 8   benefits             10670 non-null  object\n",
            " 9   telecommuting        17880 non-null  int64 \n",
            " 10  has_company_logo     17880 non-null  int64 \n",
            " 11  has_questions        17880 non-null  int64 \n",
            " 12  employment_type      14409 non-null  object\n",
            " 13  required_experience  10830 non-null  object\n",
            " 14  required_education   9775 non-null   object\n",
            " 15  industry             12977 non-null  object\n",
            " 16  function             11425 non-null  object\n",
            " 17  fraudulent           17880 non-null  int64 \n",
            "dtypes: int64(5), object(13)\n",
            "memory usage: 2.5+ MB\n"
          ],
          "name": "stdout"
        }
      ]
    },
    {
      "cell_type": "code",
      "metadata": {
        "id": "94ePUYxkUMJ3",
        "outputId": "4404d063-56cf-4c34-8ecb-e557d395253e"
      },
      "source": [
        "df.describe()"
      ],
      "execution_count": null,
      "outputs": [
        {
          "output_type": "execute_result",
          "data": {
            "text/html": [
              "<div>\n",
              "<style scoped>\n",
              "    .dataframe tbody tr th:only-of-type {\n",
              "        vertical-align: middle;\n",
              "    }\n",
              "\n",
              "    .dataframe tbody tr th {\n",
              "        vertical-align: top;\n",
              "    }\n",
              "\n",
              "    .dataframe thead th {\n",
              "        text-align: right;\n",
              "    }\n",
              "</style>\n",
              "<table border=\"1\" class=\"dataframe\">\n",
              "  <thead>\n",
              "    <tr style=\"text-align: right;\">\n",
              "      <th></th>\n",
              "      <th>job_id</th>\n",
              "      <th>telecommuting</th>\n",
              "      <th>has_company_logo</th>\n",
              "      <th>has_questions</th>\n",
              "      <th>fraudulent</th>\n",
              "    </tr>\n",
              "  </thead>\n",
              "  <tbody>\n",
              "    <tr>\n",
              "      <th>count</th>\n",
              "      <td>17880.000000</td>\n",
              "      <td>17880.000000</td>\n",
              "      <td>17880.000000</td>\n",
              "      <td>17880.000000</td>\n",
              "      <td>17880.000000</td>\n",
              "    </tr>\n",
              "    <tr>\n",
              "      <th>mean</th>\n",
              "      <td>8940.500000</td>\n",
              "      <td>0.042897</td>\n",
              "      <td>0.795302</td>\n",
              "      <td>0.491723</td>\n",
              "      <td>0.048434</td>\n",
              "    </tr>\n",
              "    <tr>\n",
              "      <th>std</th>\n",
              "      <td>5161.655742</td>\n",
              "      <td>0.202631</td>\n",
              "      <td>0.403492</td>\n",
              "      <td>0.499945</td>\n",
              "      <td>0.214688</td>\n",
              "    </tr>\n",
              "    <tr>\n",
              "      <th>min</th>\n",
              "      <td>1.000000</td>\n",
              "      <td>0.000000</td>\n",
              "      <td>0.000000</td>\n",
              "      <td>0.000000</td>\n",
              "      <td>0.000000</td>\n",
              "    </tr>\n",
              "    <tr>\n",
              "      <th>25%</th>\n",
              "      <td>4470.750000</td>\n",
              "      <td>0.000000</td>\n",
              "      <td>1.000000</td>\n",
              "      <td>0.000000</td>\n",
              "      <td>0.000000</td>\n",
              "    </tr>\n",
              "    <tr>\n",
              "      <th>50%</th>\n",
              "      <td>8940.500000</td>\n",
              "      <td>0.000000</td>\n",
              "      <td>1.000000</td>\n",
              "      <td>0.000000</td>\n",
              "      <td>0.000000</td>\n",
              "    </tr>\n",
              "    <tr>\n",
              "      <th>75%</th>\n",
              "      <td>13410.250000</td>\n",
              "      <td>0.000000</td>\n",
              "      <td>1.000000</td>\n",
              "      <td>1.000000</td>\n",
              "      <td>0.000000</td>\n",
              "    </tr>\n",
              "    <tr>\n",
              "      <th>max</th>\n",
              "      <td>17880.000000</td>\n",
              "      <td>1.000000</td>\n",
              "      <td>1.000000</td>\n",
              "      <td>1.000000</td>\n",
              "      <td>1.000000</td>\n",
              "    </tr>\n",
              "  </tbody>\n",
              "</table>\n",
              "</div>"
            ],
            "text/plain": [
              "             job_id  telecommuting  has_company_logo  has_questions  \\\n",
              "count  17880.000000   17880.000000      17880.000000   17880.000000   \n",
              "mean    8940.500000       0.042897          0.795302       0.491723   \n",
              "std     5161.655742       0.202631          0.403492       0.499945   \n",
              "min        1.000000       0.000000          0.000000       0.000000   \n",
              "25%     4470.750000       0.000000          1.000000       0.000000   \n",
              "50%     8940.500000       0.000000          1.000000       0.000000   \n",
              "75%    13410.250000       0.000000          1.000000       1.000000   \n",
              "max    17880.000000       1.000000          1.000000       1.000000   \n",
              "\n",
              "         fraudulent  \n",
              "count  17880.000000  \n",
              "mean       0.048434  \n",
              "std        0.214688  \n",
              "min        0.000000  \n",
              "25%        0.000000  \n",
              "50%        0.000000  \n",
              "75%        0.000000  \n",
              "max        1.000000  "
            ]
          },
          "metadata": {
            "tags": []
          },
          "execution_count": 5
        }
      ]
    },
    {
      "cell_type": "code",
      "metadata": {
        "id": "sgUaO8_iUMJ4",
        "outputId": "c17f54a7-8ae7-417c-884b-8d9a43be5724"
      },
      "source": [
        "df.shape"
      ],
      "execution_count": null,
      "outputs": [
        {
          "output_type": "execute_result",
          "data": {
            "text/plain": [
              "(17880, 18)"
            ]
          },
          "metadata": {
            "tags": []
          },
          "execution_count": 6
        }
      ]
    },
    {
      "cell_type": "code",
      "metadata": {
        "id": "GKPS-PQ9UMJ4",
        "outputId": "6151ccea-c68a-4834-93d4-8b2e81984fd2"
      },
      "source": [
        "df.columns"
      ],
      "execution_count": null,
      "outputs": [
        {
          "output_type": "execute_result",
          "data": {
            "text/plain": [
              "Index(['job_id', 'title', 'location', 'department', 'salary_range',\n",
              "       'company_profile', 'description', 'requirements', 'benefits',\n",
              "       'telecommuting', 'has_company_logo', 'has_questions', 'employment_type',\n",
              "       'required_experience', 'required_education', 'industry', 'function',\n",
              "       'fraudulent'],\n",
              "      dtype='object')"
            ]
          },
          "metadata": {
            "tags": []
          },
          "execution_count": 7
        }
      ]
    },
    {
      "cell_type": "markdown",
      "metadata": {
        "id": "Cvkdxit6UMJ5"
      },
      "source": [
        "#### Check for missing values and outlier"
      ]
    },
    {
      "cell_type": "code",
      "metadata": {
        "id": "kbZGTHdaUMJ5",
        "outputId": "1c05a590-2c52-4557-8cfc-0ed8aa89362d"
      },
      "source": [
        "# Check if there is any null value\n",
        "df.isna().apply(pd.value_counts)"
      ],
      "execution_count": null,
      "outputs": [
        {
          "output_type": "execute_result",
          "data": {
            "text/html": [
              "<div>\n",
              "<style scoped>\n",
              "    .dataframe tbody tr th:only-of-type {\n",
              "        vertical-align: middle;\n",
              "    }\n",
              "\n",
              "    .dataframe tbody tr th {\n",
              "        vertical-align: top;\n",
              "    }\n",
              "\n",
              "    .dataframe thead th {\n",
              "        text-align: right;\n",
              "    }\n",
              "</style>\n",
              "<table border=\"1\" class=\"dataframe\">\n",
              "  <thead>\n",
              "    <tr style=\"text-align: right;\">\n",
              "      <th></th>\n",
              "      <th>job_id</th>\n",
              "      <th>title</th>\n",
              "      <th>location</th>\n",
              "      <th>department</th>\n",
              "      <th>salary_range</th>\n",
              "      <th>company_profile</th>\n",
              "      <th>description</th>\n",
              "      <th>requirements</th>\n",
              "      <th>benefits</th>\n",
              "      <th>telecommuting</th>\n",
              "      <th>has_company_logo</th>\n",
              "      <th>has_questions</th>\n",
              "      <th>employment_type</th>\n",
              "      <th>required_experience</th>\n",
              "      <th>required_education</th>\n",
              "      <th>industry</th>\n",
              "      <th>function</th>\n",
              "      <th>fraudulent</th>\n",
              "    </tr>\n",
              "  </thead>\n",
              "  <tbody>\n",
              "    <tr>\n",
              "      <th>False</th>\n",
              "      <td>17880.0</td>\n",
              "      <td>17880.0</td>\n",
              "      <td>17534</td>\n",
              "      <td>6333</td>\n",
              "      <td>2868</td>\n",
              "      <td>14572</td>\n",
              "      <td>17879</td>\n",
              "      <td>15185</td>\n",
              "      <td>10670</td>\n",
              "      <td>17880.0</td>\n",
              "      <td>17880.0</td>\n",
              "      <td>17880.0</td>\n",
              "      <td>14409</td>\n",
              "      <td>10830</td>\n",
              "      <td>9775</td>\n",
              "      <td>12977</td>\n",
              "      <td>11425</td>\n",
              "      <td>17880.0</td>\n",
              "    </tr>\n",
              "    <tr>\n",
              "      <th>True</th>\n",
              "      <td>NaN</td>\n",
              "      <td>NaN</td>\n",
              "      <td>346</td>\n",
              "      <td>11547</td>\n",
              "      <td>15012</td>\n",
              "      <td>3308</td>\n",
              "      <td>1</td>\n",
              "      <td>2695</td>\n",
              "      <td>7210</td>\n",
              "      <td>NaN</td>\n",
              "      <td>NaN</td>\n",
              "      <td>NaN</td>\n",
              "      <td>3471</td>\n",
              "      <td>7050</td>\n",
              "      <td>8105</td>\n",
              "      <td>4903</td>\n",
              "      <td>6455</td>\n",
              "      <td>NaN</td>\n",
              "    </tr>\n",
              "  </tbody>\n",
              "</table>\n",
              "</div>"
            ],
            "text/plain": [
              "        job_id    title  location  department  salary_range  company_profile  \\\n",
              "False  17880.0  17880.0     17534        6333          2868            14572   \n",
              "True       NaN      NaN       346       11547         15012             3308   \n",
              "\n",
              "       description  requirements  benefits  telecommuting  has_company_logo  \\\n",
              "False        17879         15185     10670        17880.0           17880.0   \n",
              "True             1          2695      7210            NaN               NaN   \n",
              "\n",
              "       has_questions  employment_type  required_experience  \\\n",
              "False        17880.0            14409                10830   \n",
              "True             NaN             3471                 7050   \n",
              "\n",
              "       required_education  industry  function  fraudulent  \n",
              "False                9775     12977     11425     17880.0  \n",
              "True                 8105      4903      6455         NaN  "
            ]
          },
          "metadata": {
            "tags": []
          },
          "execution_count": 8
        }
      ]
    },
    {
      "cell_type": "code",
      "metadata": {
        "id": "rq7aOZ0BUMJ5",
        "outputId": "05bc3d26-b7c2-4c1f-9ba4-6ee372e747f2"
      },
      "source": [
        "#Check for number of null values\n",
        "df.isnull().sum()"
      ],
      "execution_count": null,
      "outputs": [
        {
          "output_type": "execute_result",
          "data": {
            "text/plain": [
              "job_id                     0\n",
              "title                      0\n",
              "location                 346\n",
              "department             11547\n",
              "salary_range           15012\n",
              "company_profile         3308\n",
              "description                1\n",
              "requirements            2695\n",
              "benefits                7210\n",
              "telecommuting              0\n",
              "has_company_logo           0\n",
              "has_questions              0\n",
              "employment_type         3471\n",
              "required_experience     7050\n",
              "required_education      8105\n",
              "industry                4903\n",
              "function                6455\n",
              "fraudulent                 0\n",
              "dtype: int64"
            ]
          },
          "metadata": {
            "tags": []
          },
          "execution_count": 9
        }
      ]
    },
    {
      "cell_type": "code",
      "metadata": {
        "id": "j_c4-BK6UMJ6",
        "outputId": "3dc03fc3-0ea3-427a-990a-82a948c75163"
      },
      "source": [
        "#Check if any duplicate rows in dataset\n",
        "df.duplicated().sum()"
      ],
      "execution_count": null,
      "outputs": [
        {
          "output_type": "execute_result",
          "data": {
            "text/plain": [
              "0"
            ]
          },
          "metadata": {
            "tags": []
          },
          "execution_count": 10
        }
      ]
    },
    {
      "cell_type": "code",
      "metadata": {
        "id": "9qv2tcPKUMJ6"
      },
      "source": [
        "#drop the duplicate values\n",
        "df.drop_duplicates(inplace=True)"
      ],
      "execution_count": null,
      "outputs": []
    },
    {
      "cell_type": "code",
      "metadata": {
        "id": "ndP8VNiJUMJ7",
        "outputId": "93c27898-d9e4-4131-d68a-b432123392aa"
      },
      "source": [
        "df.duplicated().sum()"
      ],
      "execution_count": null,
      "outputs": [
        {
          "output_type": "execute_result",
          "data": {
            "text/plain": [
              "0"
            ]
          },
          "metadata": {
            "tags": []
          },
          "execution_count": 12
        }
      ]
    },
    {
      "cell_type": "code",
      "metadata": {
        "id": "4f5w4PQcUMJ7"
      },
      "source": [
        "#Differentiate categorical data and numerical data\n",
        "df_num = df[['telecommuting','has_company_logo','has_questions','fraudulent','salary_range']]\n",
        "df_cat = df[['title', 'location','company_profile', 'requirements','employment_type',\n",
        "       'required_experience', 'required_education', 'industry', 'function']]"
      ],
      "execution_count": null,
      "outputs": []
    },
    {
      "cell_type": "code",
      "metadata": {
        "id": "DdiUqBqVUMJ7",
        "outputId": "42297bbf-6119-41d5-c7be-49ea2fd0243c"
      },
      "source": [
        "# Checking for Outliers in numerical data\n",
        "plt.figure(figsize=[16,8])\n",
        "sb.boxplot(data = df_num)\n",
        "plt.show()"
      ],
      "execution_count": null,
      "outputs": [
        {
          "output_type": "display_data",
          "data": {
            "image/png": "[encoded data removed]",
            "text/plain": [
              "<Figure size 1152x576 with 1 Axes>"
            ]
          },
          "metadata": {
            "tags": [],
            "needs_background": "light"
          }
        }
      ]
    },
    {
      "cell_type": "markdown",
      "metadata": {
        "id": "YEhspdBdUMJ8"
      },
      "source": [
        "#### Columns 'telecommuting', 'has_company_logo' ,'fradulent' has minimal outliers."
      ]
    },
    {
      "cell_type": "code",
      "metadata": {
        "id": "4_T4_YjpUMJ8",
        "outputId": "c192c58f-7b69-44e2-a02a-a609d418d1d9"
      },
      "source": [
        "#Removing Outliers from columns\n",
        "df_num = df_num[df_num['telecommuting'] < 0.9 ]\n",
        "df_num = df_num[df_num['fraudulent'] < 0.9 ]\n",
        "df_num = df_num[df_num['has_company_logo'] > 0.1 ]\n",
        "df_num"
      ],
      "execution_count": null,
      "outputs": [
        {
          "output_type": "execute_result",
          "data": {
            "text/html": [
              "<div>\n",
              "<style scoped>\n",
              "    .dataframe tbody tr th:only-of-type {\n",
              "        vertical-align: middle;\n",
              "    }\n",
              "\n",
              "    .dataframe tbody tr th {\n",
              "        vertical-align: top;\n",
              "    }\n",
              "\n",
              "    .dataframe thead th {\n",
              "        text-align: right;\n",
              "    }\n",
              "</style>\n",
              "<table border=\"1\" class=\"dataframe\">\n",
              "  <thead>\n",
              "    <tr style=\"text-align: right;\">\n",
              "      <th></th>\n",
              "      <th>telecommuting</th>\n",
              "      <th>has_company_logo</th>\n",
              "      <th>has_questions</th>\n",
              "      <th>fraudulent</th>\n",
              "      <th>salary_range</th>\n",
              "    </tr>\n",
              "  </thead>\n",
              "  <tbody>\n",
              "    <tr>\n",
              "      <th>0</th>\n",
              "      <td>0</td>\n",
              "      <td>1</td>\n",
              "      <td>0</td>\n",
              "      <td>0</td>\n",
              "      <td>NaN</td>\n",
              "    </tr>\n",
              "    <tr>\n",
              "      <th>1</th>\n",
              "      <td>0</td>\n",
              "      <td>1</td>\n",
              "      <td>0</td>\n",
              "      <td>0</td>\n",
              "      <td>NaN</td>\n",
              "    </tr>\n",
              "    <tr>\n",
              "      <th>2</th>\n",
              "      <td>0</td>\n",
              "      <td>1</td>\n",
              "      <td>0</td>\n",
              "      <td>0</td>\n",
              "      <td>NaN</td>\n",
              "    </tr>\n",
              "    <tr>\n",
              "      <th>3</th>\n",
              "      <td>0</td>\n",
              "      <td>1</td>\n",
              "      <td>0</td>\n",
              "      <td>0</td>\n",
              "      <td>NaN</td>\n",
              "    </tr>\n",
              "    <tr>\n",
              "      <th>4</th>\n",
              "      <td>0</td>\n",
              "      <td>1</td>\n",
              "      <td>1</td>\n",
              "      <td>0</td>\n",
              "      <td>NaN</td>\n",
              "    </tr>\n",
              "    <tr>\n",
              "      <th>...</th>\n",
              "      <td>...</td>\n",
              "      <td>...</td>\n",
              "      <td>...</td>\n",
              "      <td>...</td>\n",
              "      <td>...</td>\n",
              "    </tr>\n",
              "    <tr>\n",
              "      <th>17872</th>\n",
              "      <td>0</td>\n",
              "      <td>1</td>\n",
              "      <td>0</td>\n",
              "      <td>0</td>\n",
              "      <td>NaN</td>\n",
              "    </tr>\n",
              "    <tr>\n",
              "      <th>17873</th>\n",
              "      <td>0</td>\n",
              "      <td>1</td>\n",
              "      <td>0</td>\n",
              "      <td>0</td>\n",
              "      <td>NaN</td>\n",
              "    </tr>\n",
              "    <tr>\n",
              "      <th>17875</th>\n",
              "      <td>0</td>\n",
              "      <td>1</td>\n",
              "      <td>1</td>\n",
              "      <td>0</td>\n",
              "      <td>NaN</td>\n",
              "    </tr>\n",
              "    <tr>\n",
              "      <th>17876</th>\n",
              "      <td>0</td>\n",
              "      <td>1</td>\n",
              "      <td>1</td>\n",
              "      <td>0</td>\n",
              "      <td>NaN</td>\n",
              "    </tr>\n",
              "    <tr>\n",
              "      <th>17879</th>\n",
              "      <td>0</td>\n",
              "      <td>1</td>\n",
              "      <td>1</td>\n",
              "      <td>0</td>\n",
              "      <td>NaN</td>\n",
              "    </tr>\n",
              "  </tbody>\n",
              "</table>\n",
              "<p>13377 rows × 5 columns</p>\n",
              "</div>"
            ],
            "text/plain": [
              "       telecommuting  has_company_logo  has_questions  fraudulent salary_range\n",
              "0                  0                 1              0           0          NaN\n",
              "1                  0                 1              0           0          NaN\n",
              "2                  0                 1              0           0          NaN\n",
              "3                  0                 1              0           0          NaN\n",
              "4                  0                 1              1           0          NaN\n",
              "...              ...               ...            ...         ...          ...\n",
              "17872              0                 1              0           0          NaN\n",
              "17873              0                 1              0           0          NaN\n",
              "17875              0                 1              1           0          NaN\n",
              "17876              0                 1              1           0          NaN\n",
              "17879              0                 1              1           0          NaN\n",
              "\n",
              "[13377 rows x 5 columns]"
            ]
          },
          "metadata": {
            "tags": []
          },
          "execution_count": 15
        }
      ]
    },
    {
      "cell_type": "code",
      "metadata": {
        "id": "YWAGTX5fUMJ8",
        "outputId": "6ee1d978-b590-4665-9836-b813738d6a7d"
      },
      "source": [
        "df.isnull().sum()"
      ],
      "execution_count": null,
      "outputs": [
        {
          "output_type": "execute_result",
          "data": {
            "text/plain": [
              "job_id                     0\n",
              "title                      0\n",
              "location                 346\n",
              "department             11547\n",
              "salary_range           15012\n",
              "company_profile         3308\n",
              "description                1\n",
              "requirements            2695\n",
              "benefits                7210\n",
              "telecommuting              0\n",
              "has_company_logo           0\n",
              "has_questions              0\n",
              "employment_type         3471\n",
              "required_experience     7050\n",
              "required_education      8105\n",
              "industry                4903\n",
              "function                6455\n",
              "fraudulent                 0\n",
              "dtype: int64"
            ]
          },
          "metadata": {
            "tags": []
          },
          "execution_count": 16
        }
      ]
    },
    {
      "cell_type": "code",
      "metadata": {
        "id": "R0e9cTMBUMJ9"
      },
      "source": [
        "df.dropna(axis= 0, how= 'any', inplace=True)"
      ],
      "execution_count": null,
      "outputs": []
    },
    {
      "cell_type": "code",
      "metadata": {
        "id": "z01Hg4nMUMJ9",
        "outputId": "886df662-0d96-4da3-9035-30ddd98aeac4"
      },
      "source": [
        "df.isnull().sum()"
      ],
      "execution_count": null,
      "outputs": [
        {
          "output_type": "execute_result",
          "data": {
            "text/plain": [
              "job_id                 0\n",
              "title                  0\n",
              "location               0\n",
              "department             0\n",
              "salary_range           0\n",
              "company_profile        0\n",
              "description            0\n",
              "requirements           0\n",
              "benefits               0\n",
              "telecommuting          0\n",
              "has_company_logo       0\n",
              "has_questions          0\n",
              "employment_type        0\n",
              "required_experience    0\n",
              "required_education     0\n",
              "industry               0\n",
              "function               0\n",
              "fraudulent             0\n",
              "dtype: int64"
            ]
          },
          "metadata": {
            "tags": []
          },
          "execution_count": 18
        }
      ]
    },
    {
      "cell_type": "code",
      "metadata": {
        "id": "yeIIgt9ZUMJ9",
        "outputId": "9316beac-f5dc-4096-f602-2989c07bd705"
      },
      "source": [
        "df.shape"
      ],
      "execution_count": null,
      "outputs": [
        {
          "output_type": "execute_result",
          "data": {
            "text/plain": [
              "(774, 18)"
            ]
          },
          "metadata": {
            "tags": []
          },
          "execution_count": 19
        }
      ]
    },
    {
      "cell_type": "markdown",
      "metadata": {
        "id": "ex60A7bOUMJ9"
      },
      "source": [
        "#### Outliers and missing values has been removed."
      ]
    },
    {
      "cell_type": "markdown",
      "metadata": {
        "id": "8v_na5Z4UMJ-"
      },
      "source": [
        "### Creating Visual methods to analyze data"
      ]
    },
    {
      "cell_type": "code",
      "metadata": {
        "id": "DI5YOKuoUMJ-",
        "outputId": "7e5c58a9-3dd9-4833-82d1-85db6020ffa1"
      },
      "source": [
        "# Plots to see the distribution of the continuous features individually\n",
        "\n",
        "plt.figure(figsize= (25,20))\n",
        "plt.subplot(3,3,1)\n",
        "plt.hist(df.employment_type, color='orange', edgecolor = 'black', alpha = 0.7)\n",
        "plt.xlabel('\\nEmployment type')\n",
        "\n",
        "plt.subplot(3,3,2)\n",
        "plt.hist(df.required_experience, color='lightblue', edgecolor = 'black', alpha = 0.7)\n",
        "plt.xlabel('\\nRequired Experience')\n",
        "\n",
        "plt.subplot(3,3,3)\n",
        "plt.hist(df.fraudulent, color='red', edgecolor = 'black', alpha = 0.7)\n",
        "plt.xlabel('\\nFraud')\n",
        "\n",
        "\n",
        "plt.show()"
      ],
      "execution_count": null,
      "outputs": [
        {
          "output_type": "display_data",
          "data": {
            "image/png": "[encoded data removed]",
            "text/plain": [
              "<Figure size 1800x1440 with 3 Axes>"
            ]
          },
          "metadata": {
            "tags": [],
            "needs_background": "light"
          }
        }
      ]
    },
    {
      "cell_type": "markdown",
      "metadata": {
        "id": "VVd3gSYZUMJ-"
      },
      "source": [
        "#### Full-time jobs are posted more comparatively to other type of employment.\n",
        "\n",
        "#### There are more jobs available that requires Mid-senior level Experience."
      ]
    },
    {
      "cell_type": "code",
      "metadata": {
        "id": "o__UI6dmUMJ_",
        "outputId": "94ccbca7-d8ae-45e2-97e3-e52a4d0cf3b7"
      },
      "source": [
        "plt.figure(figsize=(48,20))\n",
        "sb.set_style(\"darkgrid\")\n",
        "sb.countplot(x='function',data=df,palette='Set1')"
      ],
      "execution_count": null,
      "outputs": [
        {
          "output_type": "execute_result",
          "data": {
            "text/plain": [
              "<AxesSubplot:xlabel='function', ylabel='count'>"
            ]
          },
          "metadata": {
            "tags": []
          },
          "execution_count": 21
        },
        {
          "output_type": "display_data",
          "data": {
            "image/png": "[encoded data removed]",
            "text/plain": [
              "<Figure size 3456x1440 with 1 Axes>"
            ]
          },
          "metadata": {
            "tags": [],
            "needs_background": "light"
          }
        }
      ]
    },
    {
      "cell_type": "markdown",
      "metadata": {
        "id": "QgOku7D1UMJ_"
      },
      "source": [
        "### There are maximum number of jobs are posted in IT field and minimum jobs are posted related to Distribution.\n",
        "\n",
        "### Jobs in Sales,IT,Marketing,Engineering,Customer Service,Administrative are most in demand jobs."
      ]
    },
    {
      "cell_type": "markdown",
      "metadata": {
        "id": "Y-0fF0t2UMKA"
      },
      "source": [
        "#### Que 1: Which is the job titles have most full time job opportunities and how many?"
      ]
    },
    {
      "cell_type": "code",
      "metadata": {
        "id": "3fzLt8q4UMKA"
      },
      "source": [
        "#Subsetting dataframe which have 'Full-time' emplyment type and also are not fruad.\n",
        "df_jobs = df[(df['employment_type'] == 'Full-time') & (df['fraudulent']== 0)]"
      ],
      "execution_count": null,
      "outputs": []
    },
    {
      "cell_type": "code",
      "metadata": {
        "id": "Cs4OCmkrUMKA",
        "outputId": "4b36f712-79a2-42c6-8bf6-e858400a4551"
      },
      "source": [
        "df_jobs.shape"
      ],
      "execution_count": null,
      "outputs": [
        {
          "output_type": "execute_result",
          "data": {
            "text/plain": [
              "(645, 18)"
            ]
          },
          "metadata": {
            "tags": []
          },
          "execution_count": 23
        }
      ]
    },
    {
      "cell_type": "code",
      "metadata": {
        "id": "EV3wWXKTUMKB",
        "outputId": "a6eb1fbd-0fbf-41ee-e3c3-57c86860d3f3"
      },
      "source": [
        "#Checking the counts of each unique value\n",
        "df_jobs['title'].value_counts()"
      ],
      "execution_count": null,
      "outputs": [
        {
          "output_type": "execute_result",
          "data": {
            "text/plain": [
              "Systems Engineers/Network Administrators/Tiers I-III             8\n",
              "Technical Support Associate                                      7\n",
              "Sales, Assistant Manager & Market Manager Positions Available    7\n",
              "Customer Service Representative                                  7\n",
              "Systems Engineer                                                 5\n",
              "                                                                ..\n",
              "Sales Engineer                                                   1\n",
              "Web Content Writer (SEO Compliance)                              1\n",
              "Solutions Consultant                                             1\n",
              "QC / Production                                                  1\n",
              "Android Engineer                                                 1\n",
              "Name: title, Length: 521, dtype: int64"
            ]
          },
          "metadata": {
            "tags": []
          },
          "execution_count": 24
        }
      ]
    },
    {
      "cell_type": "code",
      "metadata": {
        "id": "yGwVsugcUMKB",
        "outputId": "583d0653-a1b7-4ef1-ba10-559631543e2f"
      },
      "source": [
        "df_jobs['title'].value_counts().max()"
      ],
      "execution_count": null,
      "outputs": [
        {
          "output_type": "execute_result",
          "data": {
            "text/plain": [
              "8"
            ]
          },
          "metadata": {
            "tags": []
          },
          "execution_count": 25
        }
      ]
    },
    {
      "cell_type": "markdown",
      "metadata": {
        "id": "Ke7rP3gKUMKB"
      },
      "source": [
        "Ans 1 : Job title 'Systems Engineers/Network Administrators/Tiers I-III' has 8 opportunities for a full time job."
      ]
    },
    {
      "cell_type": "code",
      "metadata": {
        "id": "dgSoW8BdUMKC",
        "outputId": "92124c91-6147-4626-bcc8-7f0374ec129c"
      },
      "source": [
        "df.head(1)"
      ],
      "execution_count": null,
      "outputs": [
        {
          "output_type": "execute_result",
          "data": {
            "text/html": [
              "<div>\n",
              "<style scoped>\n",
              "    .dataframe tbody tr th:only-of-type {\n",
              "        vertical-align: middle;\n",
              "    }\n",
              "\n",
              "    .dataframe tbody tr th {\n",
              "        vertical-align: top;\n",
              "    }\n",
              "\n",
              "    .dataframe thead th {\n",
              "        text-align: right;\n",
              "    }\n",
              "</style>\n",
              "<table border=\"1\" class=\"dataframe\">\n",
              "  <thead>\n",
              "    <tr style=\"text-align: right;\">\n",
              "      <th></th>\n",
              "      <th>job_id</th>\n",
              "      <th>title</th>\n",
              "      <th>location</th>\n",
              "      <th>department</th>\n",
              "      <th>salary_range</th>\n",
              "      <th>company_profile</th>\n",
              "      <th>description</th>\n",
              "      <th>requirements</th>\n",
              "      <th>benefits</th>\n",
              "      <th>telecommuting</th>\n",
              "      <th>has_company_logo</th>\n",
              "      <th>has_questions</th>\n",
              "      <th>employment_type</th>\n",
              "      <th>required_experience</th>\n",
              "      <th>required_education</th>\n",
              "      <th>industry</th>\n",
              "      <th>function</th>\n",
              "      <th>fraudulent</th>\n",
              "    </tr>\n",
              "  </thead>\n",
              "  <tbody>\n",
              "    <tr>\n",
              "      <th>6</th>\n",
              "      <td>7</td>\n",
              "      <td>Head of Content (m/f)</td>\n",
              "      <td>DE, BE, Berlin</td>\n",
              "      <td>ANDROIDPIT</td>\n",
              "      <td>20000-28000</td>\n",
              "      <td>Founded in 2009, the Fonpit AG rose with its i...</td>\n",
              "      <td>Your Responsibilities: Manage the English-spea...</td>\n",
              "      <td>Your Know-How:                                ...</td>\n",
              "      <td>Your Benefits: Being part of a fast-growing co...</td>\n",
              "      <td>0</td>\n",
              "      <td>1</td>\n",
              "      <td>1</td>\n",
              "      <td>Full-time</td>\n",
              "      <td>Mid-Senior level</td>\n",
              "      <td>Master's Degree</td>\n",
              "      <td>Online Media</td>\n",
              "      <td>Management</td>\n",
              "      <td>0</td>\n",
              "    </tr>\n",
              "  </tbody>\n",
              "</table>\n",
              "</div>"
            ],
            "text/plain": [
              "   job_id                  title        location  department salary_range  \\\n",
              "6       7  Head of Content (m/f)  DE, BE, Berlin  ANDROIDPIT  20000-28000   \n",
              "\n",
              "                                     company_profile  \\\n",
              "6  Founded in 2009, the Fonpit AG rose with its i...   \n",
              "\n",
              "                                         description  \\\n",
              "6  Your Responsibilities: Manage the English-spea...   \n",
              "\n",
              "                                        requirements  \\\n",
              "6  Your Know-How:                                ...   \n",
              "\n",
              "                                            benefits  telecommuting  \\\n",
              "6  Your Benefits: Being part of a fast-growing co...              0   \n",
              "\n",
              "   has_company_logo  has_questions employment_type required_experience  \\\n",
              "6                 1              1       Full-time    Mid-Senior level   \n",
              "\n",
              "  required_education      industry    function  fraudulent  \n",
              "6    Master's Degree  Online Media  Management           0  "
            ]
          },
          "metadata": {
            "tags": []
          },
          "execution_count": 26
        }
      ]
    },
    {
      "cell_type": "markdown",
      "metadata": {
        "id": "z4CBCbZiUMKC"
      },
      "source": [
        "#### Que 2 : Which industry have the maximum number of fake job postings?"
      ]
    },
    {
      "cell_type": "code",
      "metadata": {
        "id": "GTgZ1l19UMKC"
      },
      "source": [
        "#Only including rows which are fake job postings.\n",
        "df_industry = df[df['fraudulent']== 1]"
      ],
      "execution_count": null,
      "outputs": []
    },
    {
      "cell_type": "code",
      "metadata": {
        "id": "MRUOS5DHUMKC",
        "outputId": "4595d5fb-1b57-4481-b766-782b2470948c"
      },
      "source": [
        "df_industry.shape"
      ],
      "execution_count": null,
      "outputs": [
        {
          "output_type": "execute_result",
          "data": {
            "text/plain": [
              "(72, 18)"
            ]
          },
          "metadata": {
            "tags": []
          },
          "execution_count": 28
        }
      ]
    },
    {
      "cell_type": "code",
      "metadata": {
        "id": "djvic-SvUMKD",
        "outputId": "4712be26-f3d8-4b67-fb67-c30733a44bb8"
      },
      "source": [
        "#Checking each unique value counts of industry.\n",
        "df_industry['industry'].value_counts()"
      ],
      "execution_count": null,
      "outputs": [
        {
          "output_type": "execute_result",
          "data": {
            "text/plain": [
              "Oil & Energy                            17\n",
              "Real Estate                             10\n",
              "Consumer Services                        8\n",
              "Financial Services                       6\n",
              "Computer & Network Security              5\n",
              "Hospital & Health Care                   4\n",
              "Retail                                   3\n",
              "Management Consulting                    3\n",
              "Transportation/Trucking/Railroad         2\n",
              "Human Resources                          2\n",
              "Insurance                                2\n",
              "Telecommunications                       2\n",
              "Logistics and Supply Chain               1\n",
              "Accounting                               1\n",
              "Warehousing                              1\n",
              "Construction                             1\n",
              "Computer Networking                      1\n",
              "Mechanical or Industrial Engineering     1\n",
              "Security and Investigations              1\n",
              "Information Services                     1\n",
              "Name: industry, dtype: int64"
            ]
          },
          "metadata": {
            "tags": []
          },
          "execution_count": 29
        }
      ]
    },
    {
      "cell_type": "markdown",
      "metadata": {
        "id": "vedbaFQ6UMKD"
      },
      "source": [
        "#### Ans 2 : Industry with, maximum no. of fake job postings : Oil & energy"
      ]
    },
    {
      "cell_type": "markdown",
      "metadata": {
        "id": "yxhTk3h7UMKD"
      },
      "source": [
        "#### Balancing dataset¶\n",
        "We have performed Explorartory Data Analysis on dataset,now we need to check if our dataset is balanced or not.\n",
        "Unbalanced dataset can lead to biased results for our model."
      ]
    },
    {
      "cell_type": "code",
      "metadata": {
        "id": "butpNsgOUMKD",
        "outputId": "6a32a598-6e2e-4dff-f9b3-36dfa8784331"
      },
      "source": [
        "df['fraudulent'].value_counts()"
      ],
      "execution_count": null,
      "outputs": [
        {
          "output_type": "execute_result",
          "data": {
            "text/plain": [
              "0    702\n",
              "1     72\n",
              "Name: fraudulent, dtype: int64"
            ]
          },
          "metadata": {
            "tags": []
          },
          "execution_count": 30
        }
      ]
    },
    {
      "cell_type": "markdown",
      "metadata": {
        "id": "QTdCxvWFUMKE"
      },
      "source": [
        "As we can see,we have very imbalanced dataset, need to balance it first and then train our model."
      ]
    },
    {
      "cell_type": "markdown",
      "metadata": {
        "id": "K6976G-9UMKE"
      },
      "source": [
        "- -> Separete fraudulent and non fraudulent dataframes:"
      ]
    },
    {
      "cell_type": "code",
      "metadata": {
        "id": "e-kk4ladUMKE",
        "outputId": "ce6ea5b9-40d9-4825-d36a-62895d977027"
      },
      "source": [
        "df['fraudulent'].values"
      ],
      "execution_count": null,
      "outputs": [
        {
          "output_type": "execute_result",
          "data": {
            "text/plain": [
              "array([0, 0, 0, 1, 0, 0, 0, 0, 0, 0, 0, 1, 0, 0, 0, 0, 0, 0, 0, 0, 0, 0,\n",
              "       0, 0, 0, 0, 0, 1, 0, 0, 0, 1, 0, 0, 0, 0, 1, 1, 0, 1, 0, 1, 0, 0,\n",
              "       0, 0, 0, 0, 0, 0, 0, 0, 1, 0, 0, 0, 0, 0, 0, 0, 0, 0, 0, 0, 0, 0,\n",
              "       0, 0, 0, 0, 0, 0, 0, 0, 0, 0, 0, 0, 0, 0, 0, 0, 0, 0, 0, 0, 0, 0,\n",
              "       0, 0, 0, 0, 0, 0, 0, 0, 0, 1, 0, 0, 0, 0, 0, 0, 0, 0, 0, 0, 0, 0,\n",
              "       0, 0, 0, 0, 0, 0, 0, 0, 0, 0, 0, 1, 0, 0, 0, 0, 0, 0, 0, 0, 0, 0,\n",
              "       0, 0, 1, 0, 0, 0, 0, 0, 0, 0, 0, 0, 1, 0, 0, 0, 0, 0, 0, 0, 0, 0,\n",
              "       0, 0, 0, 0, 0, 1, 0, 0, 0, 0, 0, 0, 0, 0, 0, 0, 0, 0, 0, 1, 0, 0,\n",
              "       0, 0, 0, 0, 1, 0, 0, 1, 0, 0, 0, 0, 1, 0, 0, 0, 0, 0, 0, 0, 1, 0,\n",
              "       0, 1, 1, 1, 1, 0, 1, 0, 0, 1, 0, 1, 0, 0, 0, 0, 0, 0, 0, 0, 0, 0,\n",
              "       0, 0, 0, 0, 0, 0, 0, 0, 0, 0, 0, 0, 0, 0, 0, 0, 0, 0, 0, 0, 0, 1,\n",
              "       0, 1, 0, 0, 0, 0, 0, 0, 0, 0, 0, 0, 0, 0, 0, 0, 0, 0, 0, 0, 0, 0,\n",
              "       1, 0, 0, 1, 1, 1, 1, 1, 1, 1, 1, 1, 1, 1, 1, 0, 0, 0, 0, 0, 1, 0,\n",
              "       0, 0, 0, 0, 0, 0, 1, 0, 0, 0, 0, 0, 0, 0, 0, 0, 0, 0, 0, 0, 0, 0,\n",
              "       0, 0, 0, 0, 0, 0, 0, 0, 0, 0, 0, 0, 0, 0, 0, 0, 0, 0, 0, 0, 0, 0,\n",
              "       0, 1, 0, 1, 1, 1, 0, 0, 0, 0, 0, 0, 0, 0, 0, 0, 0, 0, 0, 0, 0, 0,\n",
              "       0, 0, 0, 0, 0, 0, 0, 0, 0, 0, 0, 0, 1, 0, 0, 0, 0, 0, 0, 0, 0, 0,\n",
              "       0, 0, 0, 0, 0, 0, 0, 0, 0, 0, 0, 0, 0, 0, 0, 0, 0, 0, 0, 0, 0, 1,\n",
              "       0, 0, 0, 1, 1, 0, 0, 0, 0, 0, 1, 1, 0, 0, 0, 0, 0, 0, 0, 0, 0, 0,\n",
              "       0, 0, 0, 1, 0, 0, 0, 0, 0, 0, 0, 0, 0, 0, 0, 0, 0, 0, 0, 0, 0, 0,\n",
              "       0, 0, 0, 0, 0, 0, 0, 0, 1, 1, 0, 1, 0, 0, 0, 0, 0, 0, 0, 0, 0, 0,\n",
              "       0, 0, 0, 0, 0, 0, 0, 0, 0, 0, 0, 0, 0, 0, 0, 0, 0, 0, 0, 0, 0, 0,\n",
              "       0, 0, 0, 0, 0, 0, 0, 0, 0, 0, 0, 0, 0, 0, 0, 0, 0, 0, 0, 0, 0, 0,\n",
              "       0, 0, 0, 0, 0, 0, 0, 0, 0, 0, 0, 0, 0, 0, 0, 0, 0, 0, 0, 0, 1, 0,\n",
              "       0, 0, 1, 0, 0, 1, 1, 1, 1, 1, 0, 0, 0, 0, 0, 0, 0, 0, 0, 0, 0, 0,\n",
              "       0, 0, 0, 0, 0, 0, 0, 0, 0, 0, 0, 0, 0, 0, 0, 0, 0, 1, 0, 0, 0, 0,\n",
              "       0, 0, 0, 0, 0, 0, 0, 0, 0, 0, 0, 0, 0, 0, 0, 0, 0, 0, 0, 0, 0, 0,\n",
              "       0, 0, 0, 0, 0, 0, 0, 0, 0, 0, 0, 0, 0, 0, 0, 0, 0, 0, 0, 0, 0, 0,\n",
              "       0, 0, 0, 0, 0, 0, 0, 0, 0, 0, 0, 0, 0, 0, 0, 0, 0, 0, 0, 0, 0, 0,\n",
              "       0, 0, 0, 0, 0, 0, 0, 0, 0, 0, 0, 0, 0, 0, 0, 0, 0, 0, 0, 0, 0, 0,\n",
              "       0, 0, 0, 0, 0, 0, 0, 0, 0, 0, 0, 0, 0, 0, 0, 0, 0, 0, 0, 0, 0, 0,\n",
              "       0, 0, 0, 0, 0, 0, 0, 0, 0, 0, 0, 0, 0, 0, 0, 0, 0, 0, 0, 0, 0, 0,\n",
              "       0, 0, 0, 0, 0, 0, 0, 0, 0, 0, 0, 0, 0, 0, 0, 0, 0, 0, 0, 0, 0, 0,\n",
              "       0, 0, 0, 0, 0, 0, 0, 0, 0, 0, 0, 0, 0, 0, 0, 0, 0, 0, 0, 0, 0, 0,\n",
              "       0, 0, 0, 0, 0, 0, 0, 0, 0, 0, 0, 0, 0, 0, 0, 0, 0, 1, 1, 1, 1, 1,\n",
              "       1, 1, 0, 0], dtype=int64)"
            ]
          },
          "metadata": {
            "tags": []
          },
          "execution_count": 31
        }
      ]
    },
    {
      "cell_type": "code",
      "metadata": {
        "id": "fBetEUX9UMKE",
        "outputId": "7cba22f5-1304-4ac7-a278-7fe30d96f1de"
      },
      "source": [
        "fraud = df[df['fraudulent']== 1]\n",
        "fraud.shape"
      ],
      "execution_count": null,
      "outputs": [
        {
          "output_type": "execute_result",
          "data": {
            "text/plain": [
              "(72, 18)"
            ]
          },
          "metadata": {
            "tags": []
          },
          "execution_count": 32
        }
      ]
    },
    {
      "cell_type": "code",
      "metadata": {
        "id": "GQAAeIPeUMKF",
        "outputId": "d90c0672-e084-40d7-fd79-c21b4b46fc02"
      },
      "source": [
        "not_fraud = df[df['fraudulent']== 0]\n",
        "not_fraud.shape"
      ],
      "execution_count": null,
      "outputs": [
        {
          "output_type": "execute_result",
          "data": {
            "text/plain": [
              "(702, 18)"
            ]
          },
          "metadata": {
            "tags": []
          },
          "execution_count": 33
        }
      ]
    },
    {
      "cell_type": "markdown",
      "metadata": {
        "id": "dmzELGViUMKF"
      },
      "source": [
        "we can oversample 'fraud' dataframe in order to get balanced dataset."
      ]
    },
    {
      "cell_type": "code",
      "metadata": {
        "id": "F6GOpK_3UMKF"
      },
      "source": [
        "fraud = fraud.sample(1403, replace=True)"
      ],
      "execution_count": null,
      "outputs": []
    },
    {
      "cell_type": "code",
      "metadata": {
        "id": "HPulFwbfUMKF",
        "outputId": "3a848b6c-6c3a-4c37-a66c-1d520212857f"
      },
      "source": [
        "fraud.shape, not_fraud.shape"
      ],
      "execution_count": null,
      "outputs": [
        {
          "output_type": "execute_result",
          "data": {
            "text/plain": [
              "((1403, 18), (702, 18))"
            ]
          },
          "metadata": {
            "tags": []
          },
          "execution_count": 35
        }
      ]
    },
    {
      "cell_type": "markdown",
      "metadata": {
        "id": "vmL0KRVqUMKF"
      },
      "source": [
        "Now our dataset is balanced:)"
      ]
    },
    {
      "cell_type": "code",
      "metadata": {
        "id": "gXUERqqvUMKG",
        "outputId": "36a28430-03fa-491a-8423-f2d1ed02ce27"
      },
      "source": [
        "df = fraud.append(not_fraud)\n",
        "df.reset_index()"
      ],
      "execution_count": null,
      "outputs": [
        {
          "output_type": "execute_result",
          "data": {
            "text/html": [
              "<div>\n",
              "<style scoped>\n",
              "    .dataframe tbody tr th:only-of-type {\n",
              "        vertical-align: middle;\n",
              "    }\n",
              "\n",
              "    .dataframe tbody tr th {\n",
              "        vertical-align: top;\n",
              "    }\n",
              "\n",
              "    .dataframe thead th {\n",
              "        text-align: right;\n",
              "    }\n",
              "</style>\n",
              "<table border=\"1\" class=\"dataframe\">\n",
              "  <thead>\n",
              "    <tr style=\"text-align: right;\">\n",
              "      <th></th>\n",
              "      <th>index</th>\n",
              "      <th>job_id</th>\n",
              "      <th>title</th>\n",
              "      <th>location</th>\n",
              "      <th>department</th>\n",
              "      <th>salary_range</th>\n",
              "      <th>company_profile</th>\n",
              "      <th>description</th>\n",
              "      <th>requirements</th>\n",
              "      <th>benefits</th>\n",
              "      <th>telecommuting</th>\n",
              "      <th>has_company_logo</th>\n",
              "      <th>has_questions</th>\n",
              "      <th>employment_type</th>\n",
              "      <th>required_experience</th>\n",
              "      <th>required_education</th>\n",
              "      <th>industry</th>\n",
              "      <th>function</th>\n",
              "      <th>fraudulent</th>\n",
              "    </tr>\n",
              "  </thead>\n",
              "  <tbody>\n",
              "    <tr>\n",
              "      <th>0</th>\n",
              "      <td>9823</td>\n",
              "      <td>9824</td>\n",
              "      <td>Health + Safety Professional</td>\n",
              "      <td>US, CA, Bakersfield</td>\n",
              "      <td>HSE (Health Safety Environmental)</td>\n",
              "      <td>80000-120000</td>\n",
              "      <td>Macpherson Oil and Refined Resources have part...</td>\n",
              "      <td>Qualified candidates are encouraged to apply d...</td>\n",
              "      <td>Duties and Responsibilities:Provides safety po...</td>\n",
              "      <td>What is offered:Competitive compensation packa...</td>\n",
              "      <td>0</td>\n",
              "      <td>1</td>\n",
              "      <td>1</td>\n",
              "      <td>Full-time</td>\n",
              "      <td>Mid-Senior level</td>\n",
              "      <td>Bachelor's Degree</td>\n",
              "      <td>Oil &amp; Energy</td>\n",
              "      <td>Other</td>\n",
              "      <td>1</td>\n",
              "    </tr>\n",
              "    <tr>\n",
              "      <th>1</th>\n",
              "      <td>937</td>\n",
              "      <td>938</td>\n",
              "      <td>Health &amp; Environmental Professional</td>\n",
              "      <td>US, CA, Bakersfield</td>\n",
              "      <td>Refined Resources</td>\n",
              "      <td>70000-120000</td>\n",
              "      <td>Aptitude Staffing Solutions has redesigned the...</td>\n",
              "      <td></td>\n",
              "      <td>Responsibilities:Duties and Responsibilities:M...</td>\n",
              "      <td>Please Apply for Immediate Consideration Qual...</td>\n",
              "      <td>0</td>\n",
              "      <td>1</td>\n",
              "      <td>1</td>\n",
              "      <td>Full-time</td>\n",
              "      <td>Mid-Senior level</td>\n",
              "      <td>Bachelor's Degree</td>\n",
              "      <td>Oil &amp; Energy</td>\n",
              "      <td>Other</td>\n",
              "      <td>1</td>\n",
              "    </tr>\n",
              "    <tr>\n",
              "      <th>2</th>\n",
              "      <td>5808</td>\n",
              "      <td>5809</td>\n",
              "      <td>Employee Relations Specialist</td>\n",
              "      <td>US, TX, Austin</td>\n",
              "      <td>\\tCorporate Shared Services</td>\n",
              "      <td>35000-45000</td>\n",
              "      <td>As the industry’s largest supply contracting c...</td>\n",
              "      <td>Act as a first point of contact for employee-r...</td>\n",
              "      <td>Minimum of three (3) years of work Novationoff...</td>\n",
              "      <td>Novation offers an empowered work environment ...</td>\n",
              "      <td>0</td>\n",
              "      <td>1</td>\n",
              "      <td>1</td>\n",
              "      <td>Full-time</td>\n",
              "      <td>Entry level</td>\n",
              "      <td>High School or equivalent</td>\n",
              "      <td>Human Resources</td>\n",
              "      <td>Administrative</td>\n",
              "      <td>1</td>\n",
              "    </tr>\n",
              "    <tr>\n",
              "      <th>3</th>\n",
              "      <td>4607</td>\n",
              "      <td>4608</td>\n",
              "      <td>CALL CENTER REP</td>\n",
              "      <td>US, TX, DALLAS</td>\n",
              "      <td>CALLCENTER</td>\n",
              "      <td>30000-45000</td>\n",
              "      <td>The Accion  story began more than 100 years ag...</td>\n",
              "      <td>Our Call Center Rep would be expected to be ex...</td>\n",
              "      <td>The qualifications for this position ensure yo...</td>\n",
              "      <td>100% coverage of dental, vision and life insur...</td>\n",
              "      <td>0</td>\n",
              "      <td>1</td>\n",
              "      <td>1</td>\n",
              "      <td>Full-time</td>\n",
              "      <td>Associate</td>\n",
              "      <td>High School or equivalent</td>\n",
              "      <td>Financial Services</td>\n",
              "      <td>Customer Service</td>\n",
              "      <td>1</td>\n",
              "    </tr>\n",
              "    <tr>\n",
              "      <th>4</th>\n",
              "      <td>11628</td>\n",
              "      <td>11629</td>\n",
              "      <td>Sales Professional- SMB (Full-Time)</td>\n",
              "      <td>US, MD, Baltimore</td>\n",
              "      <td>Sales and Research</td>\n",
              "      <td>21600-31200</td>\n",
              "      <td>Making Mobile Device Management Clear is Clear...</td>\n",
              "      <td>- Maintain a high level of Clearmark solution ...</td>\n",
              "      <td>Job Requirements High School Diploma or GEDPas...</td>\n",
              "      <td>401kHealth InsurancePaid Time OffVacation Time...</td>\n",
              "      <td>0</td>\n",
              "      <td>1</td>\n",
              "      <td>0</td>\n",
              "      <td>Full-time</td>\n",
              "      <td>Entry level</td>\n",
              "      <td>High School or equivalent</td>\n",
              "      <td>Computer &amp; Network Security</td>\n",
              "      <td>Sales</td>\n",
              "      <td>1</td>\n",
              "    </tr>\n",
              "    <tr>\n",
              "      <th>...</th>\n",
              "      <td>...</td>\n",
              "      <td>...</td>\n",
              "      <td>...</td>\n",
              "      <td>...</td>\n",
              "      <td>...</td>\n",
              "      <td>...</td>\n",
              "      <td>...</td>\n",
              "      <td>...</td>\n",
              "      <td>...</td>\n",
              "      <td>...</td>\n",
              "      <td>...</td>\n",
              "      <td>...</td>\n",
              "      <td>...</td>\n",
              "      <td>...</td>\n",
              "      <td>...</td>\n",
              "      <td>...</td>\n",
              "      <td>...</td>\n",
              "      <td>...</td>\n",
              "      <td>...</td>\n",
              "    </tr>\n",
              "    <tr>\n",
              "      <th>2100</th>\n",
              "      <td>17362</td>\n",
              "      <td>17363</td>\n",
              "      <td>Customer Success Associate</td>\n",
              "      <td>US, NY, New York</td>\n",
              "      <td>Support</td>\n",
              "      <td>40000-60000</td>\n",
              "      <td>We launched Involvio as students at Drexel Uni...</td>\n",
              "      <td>We’re looking for an enthusiastic individual t...</td>\n",
              "      <td>4-year degreeFluent in English, additional lan...</td>\n",
              "      <td>Cool midtown office close to Grand CentralBran...</td>\n",
              "      <td>0</td>\n",
              "      <td>1</td>\n",
              "      <td>1</td>\n",
              "      <td>Full-time</td>\n",
              "      <td>Associate</td>\n",
              "      <td>Bachelor's Degree</td>\n",
              "      <td>Internet</td>\n",
              "      <td>Customer Service</td>\n",
              "      <td>0</td>\n",
              "    </tr>\n",
              "    <tr>\n",
              "      <th>2101</th>\n",
              "      <td>17371</td>\n",
              "      <td>17372</td>\n",
              "      <td>Account Manager</td>\n",
              "      <td>NZ, N, Auckland</td>\n",
              "      <td>Customer Service</td>\n",
              "      <td>55000-65000</td>\n",
              "      <td>HealthLink provides a computer communications ...</td>\n",
              "      <td>Do you have a flair for customer engagement?Ar...</td>\n",
              "      <td>Good computer skills: experience in Microsoft ...</td>\n",
              "      <td>Stimulating environment with high performance ...</td>\n",
              "      <td>0</td>\n",
              "      <td>1</td>\n",
              "      <td>1</td>\n",
              "      <td>Full-time</td>\n",
              "      <td>Not Applicable</td>\n",
              "      <td>Bachelor's Degree</td>\n",
              "      <td>Information Technology and Services</td>\n",
              "      <td>Customer Service</td>\n",
              "      <td>0</td>\n",
              "    </tr>\n",
              "    <tr>\n",
              "      <th>2102</th>\n",
              "      <td>17488</td>\n",
              "      <td>17489</td>\n",
              "      <td>Management Accountant</td>\n",
              "      <td>NZ, N, Auckland</td>\n",
              "      <td>Finance</td>\n",
              "      <td>100000-110000</td>\n",
              "      <td>PowerbyProxi and its customers are leading a r...</td>\n",
              "      <td>PowerbyProxi is one of NZ's more promising Hig...</td>\n",
              "      <td>Reporting to the CFO, the Management Accountan...</td>\n",
              "      <td>Our work environment is exciting, fast-paced a...</td>\n",
              "      <td>0</td>\n",
              "      <td>1</td>\n",
              "      <td>0</td>\n",
              "      <td>Contract</td>\n",
              "      <td>Mid-Senior level</td>\n",
              "      <td>Bachelor's Degree</td>\n",
              "      <td>Electrical/Electronic Manufacturing</td>\n",
              "      <td>Finance</td>\n",
              "      <td>0</td>\n",
              "    </tr>\n",
              "    <tr>\n",
              "      <th>2103</th>\n",
              "      <td>17849</td>\n",
              "      <td>17850</td>\n",
              "      <td>Communication Designer</td>\n",
              "      <td>US, CA, San Francisco</td>\n",
              "      <td>Design</td>\n",
              "      <td>80000-100000</td>\n",
              "      <td>Balanced Labs exists to provide accountants an...</td>\n",
              "      <td>Balanced Labs exists to improve the lives of a...</td>\n",
              "      <td>Specifically, we’re looking for:5+ years of vi...</td>\n",
              "      <td>We offer great salaries, share options, and a ...</td>\n",
              "      <td>0</td>\n",
              "      <td>1</td>\n",
              "      <td>0</td>\n",
              "      <td>Full-time</td>\n",
              "      <td>Mid-Senior level</td>\n",
              "      <td>Bachelor's Degree</td>\n",
              "      <td>Computer Software</td>\n",
              "      <td>Design</td>\n",
              "      <td>0</td>\n",
              "    </tr>\n",
              "    <tr>\n",
              "      <th>2104</th>\n",
              "      <td>17865</td>\n",
              "      <td>17866</td>\n",
              "      <td>Portfolio Development Associate - Paris &amp; rest...</td>\n",
              "      <td>GB, LND, London</td>\n",
              "      <td>Sales</td>\n",
              "      <td>18000-20000</td>\n",
              "      <td>We're hiring!AvenueStory is a concept driven b...</td>\n",
              "      <td>AvenueStory is looking for a curious, ambitiou...</td>\n",
              "      <td>Comfortable on the phone, fluent in French and...</td>\n",
              "      <td>Working within a small, young dynamic team in ...</td>\n",
              "      <td>0</td>\n",
              "      <td>1</td>\n",
              "      <td>1</td>\n",
              "      <td>Full-time</td>\n",
              "      <td>Entry level</td>\n",
              "      <td>Bachelor's Degree</td>\n",
              "      <td>Real Estate</td>\n",
              "      <td>Sales</td>\n",
              "      <td>0</td>\n",
              "    </tr>\n",
              "  </tbody>\n",
              "</table>\n",
              "<p>2105 rows × 19 columns</p>\n",
              "</div>"
            ],
            "text/plain": [
              "      index  job_id                                              title  \\\n",
              "0      9823    9824                       Health + Safety Professional   \n",
              "1       937     938                Health & Environmental Professional   \n",
              "2      5808    5809                      Employee Relations Specialist   \n",
              "3      4607    4608                                    CALL CENTER REP   \n",
              "4     11628   11629                Sales Professional- SMB (Full-Time)   \n",
              "...     ...     ...                                                ...   \n",
              "2100  17362   17363                         Customer Success Associate   \n",
              "2101  17371   17372                                    Account Manager   \n",
              "2102  17488   17489                              Management Accountant   \n",
              "2103  17849   17850                             Communication Designer   \n",
              "2104  17865   17866  Portfolio Development Associate - Paris & rest...   \n",
              "\n",
              "                   location                         department   salary_range  \\\n",
              "0       US, CA, Bakersfield  HSE (Health Safety Environmental)   80000-120000   \n",
              "1       US, CA, Bakersfield                  Refined Resources   70000-120000   \n",
              "2            US, TX, Austin        \\tCorporate Shared Services    35000-45000   \n",
              "3            US, TX, DALLAS                         CALLCENTER    30000-45000   \n",
              "4         US, MD, Baltimore                 Sales and Research    21600-31200   \n",
              "...                     ...                                ...            ...   \n",
              "2100       US, NY, New York                            Support    40000-60000   \n",
              "2101        NZ, N, Auckland                   Customer Service    55000-65000   \n",
              "2102        NZ, N, Auckland                            Finance  100000-110000   \n",
              "2103  US, CA, San Francisco                             Design   80000-100000   \n",
              "2104        GB, LND, London                              Sales    18000-20000   \n",
              "\n",
              "                                        company_profile  \\\n",
              "0     Macpherson Oil and Refined Resources have part...   \n",
              "1     Aptitude Staffing Solutions has redesigned the...   \n",
              "2     As the industry’s largest supply contracting c...   \n",
              "3     The Accion  story began more than 100 years ag...   \n",
              "4     Making Mobile Device Management Clear is Clear...   \n",
              "...                                                 ...   \n",
              "2100  We launched Involvio as students at Drexel Uni...   \n",
              "2101  HealthLink provides a computer communications ...   \n",
              "2102  PowerbyProxi and its customers are leading a r...   \n",
              "2103  Balanced Labs exists to provide accountants an...   \n",
              "2104  We're hiring!AvenueStory is a concept driven b...   \n",
              "\n",
              "                                            description  \\\n",
              "0     Qualified candidates are encouraged to apply d...   \n",
              "1                                                         \n",
              "2     Act as a first point of contact for employee-r...   \n",
              "3     Our Call Center Rep would be expected to be ex...   \n",
              "4     - Maintain a high level of Clearmark solution ...   \n",
              "...                                                 ...   \n",
              "2100  We’re looking for an enthusiastic individual t...   \n",
              "2101  Do you have a flair for customer engagement?Ar...   \n",
              "2102  PowerbyProxi is one of NZ's more promising Hig...   \n",
              "2103  Balanced Labs exists to improve the lives of a...   \n",
              "2104  AvenueStory is looking for a curious, ambitiou...   \n",
              "\n",
              "                                           requirements  \\\n",
              "0     Duties and Responsibilities:Provides safety po...   \n",
              "1     Responsibilities:Duties and Responsibilities:M...   \n",
              "2     Minimum of three (3) years of work Novationoff...   \n",
              "3     The qualifications for this position ensure yo...   \n",
              "4     Job Requirements High School Diploma or GEDPas...   \n",
              "...                                                 ...   \n",
              "2100  4-year degreeFluent in English, additional lan...   \n",
              "2101  Good computer skills: experience in Microsoft ...   \n",
              "2102  Reporting to the CFO, the Management Accountan...   \n",
              "2103  Specifically, we’re looking for:5+ years of vi...   \n",
              "2104  Comfortable on the phone, fluent in French and...   \n",
              "\n",
              "                                               benefits  telecommuting  \\\n",
              "0     What is offered:Competitive compensation packa...              0   \n",
              "1      Please Apply for Immediate Consideration Qual...              0   \n",
              "2     Novation offers an empowered work environment ...              0   \n",
              "3     100% coverage of dental, vision and life insur...              0   \n",
              "4     401kHealth InsurancePaid Time OffVacation Time...              0   \n",
              "...                                                 ...            ...   \n",
              "2100  Cool midtown office close to Grand CentralBran...              0   \n",
              "2101  Stimulating environment with high performance ...              0   \n",
              "2102  Our work environment is exciting, fast-paced a...              0   \n",
              "2103  We offer great salaries, share options, and a ...              0   \n",
              "2104  Working within a small, young dynamic team in ...              0   \n",
              "\n",
              "      has_company_logo  has_questions employment_type required_experience  \\\n",
              "0                    1              1       Full-time    Mid-Senior level   \n",
              "1                    1              1       Full-time    Mid-Senior level   \n",
              "2                    1              1       Full-time         Entry level   \n",
              "3                    1              1       Full-time           Associate   \n",
              "4                    1              0       Full-time         Entry level   \n",
              "...                ...            ...             ...                 ...   \n",
              "2100                 1              1       Full-time           Associate   \n",
              "2101                 1              1       Full-time      Not Applicable   \n",
              "2102                 1              0        Contract    Mid-Senior level   \n",
              "2103                 1              0       Full-time    Mid-Senior level   \n",
              "2104                 1              1       Full-time         Entry level   \n",
              "\n",
              "             required_education                             industry  \\\n",
              "0             Bachelor's Degree                         Oil & Energy   \n",
              "1             Bachelor's Degree                         Oil & Energy   \n",
              "2     High School or equivalent                      Human Resources   \n",
              "3     High School or equivalent                   Financial Services   \n",
              "4     High School or equivalent          Computer & Network Security   \n",
              "...                         ...                                  ...   \n",
              "2100          Bachelor's Degree                             Internet   \n",
              "2101          Bachelor's Degree  Information Technology and Services   \n",
              "2102          Bachelor's Degree  Electrical/Electronic Manufacturing   \n",
              "2103          Bachelor's Degree                    Computer Software   \n",
              "2104          Bachelor's Degree                          Real Estate   \n",
              "\n",
              "              function  fraudulent  \n",
              "0                Other           1  \n",
              "1                Other           1  \n",
              "2       Administrative           1  \n",
              "3     Customer Service           1  \n",
              "4                Sales           1  \n",
              "...                ...         ...  \n",
              "2100  Customer Service           0  \n",
              "2101  Customer Service           0  \n",
              "2102           Finance           0  \n",
              "2103            Design           0  \n",
              "2104             Sales           0  \n",
              "\n",
              "[2105 rows x 19 columns]"
            ]
          },
          "metadata": {
            "tags": []
          },
          "execution_count": 36
        }
      ]
    },
    {
      "cell_type": "markdown",
      "metadata": {
        "id": "_FlbN9swUMKG"
      },
      "source": [
        "We have so much categorical data, so we need to convert it to numerical data.\n",
        "To do so, we perform LabelEncoding."
      ]
    },
    {
      "cell_type": "code",
      "metadata": {
        "id": "SKUjHL5xUMKG"
      },
      "source": [
        "from sklearn.preprocessing import LabelEncoder"
      ],
      "execution_count": null,
      "outputs": []
    },
    {
      "cell_type": "code",
      "metadata": {
        "id": "k4l4mCJbUMKG"
      },
      "source": [
        "le = LabelEncoder()\n",
        "df['title'] = le.fit_transform(df['title'])\n",
        "df['location'] = le.fit_transform(df['location'])\n",
        "df['company_profile'] = le.fit_transform(df['company_profile'])\n",
        "df['requirements'] = le.fit_transform(df['requirements'])\n",
        "df['employment_type'] = le.fit_transform(df['employment_type'])\n",
        "df['required_experience'] = le.fit_transform(df['required_experience'])\n",
        "df['required_education'] = le.fit_transform(df['required_education'])\n",
        "df['industry'] = le.fit_transform(df['industry'])\n",
        "df['function'] = le.fit_transform(df['function'])\n",
        "df['salary_range'] = le.fit_transform(df['salary_range'])"
      ],
      "execution_count": null,
      "outputs": []
    },
    {
      "cell_type": "code",
      "metadata": {
        "id": "lpz1FcG7UMKH",
        "outputId": "66051763-9f7e-4f59-f8f7-879dca955514"
      },
      "source": [
        "df = df.reset_index()\n",
        "df.head()"
      ],
      "execution_count": null,
      "outputs": [
        {
          "output_type": "execute_result",
          "data": {
            "text/html": [
              "<div>\n",
              "<style scoped>\n",
              "    .dataframe tbody tr th:only-of-type {\n",
              "        vertical-align: middle;\n",
              "    }\n",
              "\n",
              "    .dataframe tbody tr th {\n",
              "        vertical-align: top;\n",
              "    }\n",
              "\n",
              "    .dataframe thead th {\n",
              "        text-align: right;\n",
              "    }\n",
              "</style>\n",
              "<table border=\"1\" class=\"dataframe\">\n",
              "  <thead>\n",
              "    <tr style=\"text-align: right;\">\n",
              "      <th></th>\n",
              "      <th>index</th>\n",
              "      <th>job_id</th>\n",
              "      <th>title</th>\n",
              "      <th>location</th>\n",
              "      <th>department</th>\n",
              "      <th>salary_range</th>\n",
              "      <th>company_profile</th>\n",
              "      <th>description</th>\n",
              "      <th>requirements</th>\n",
              "      <th>benefits</th>\n",
              "      <th>telecommuting</th>\n",
              "      <th>has_company_logo</th>\n",
              "      <th>has_questions</th>\n",
              "      <th>employment_type</th>\n",
              "      <th>required_experience</th>\n",
              "      <th>required_education</th>\n",
              "      <th>industry</th>\n",
              "      <th>function</th>\n",
              "      <th>fraudulent</th>\n",
              "    </tr>\n",
              "  </thead>\n",
              "  <tbody>\n",
              "    <tr>\n",
              "      <th>0</th>\n",
              "      <td>9823</td>\n",
              "      <td>9824</td>\n",
              "      <td>263</td>\n",
              "      <td>106</td>\n",
              "      <td>HSE (Health Safety Environmental)</td>\n",
              "      <td>276</td>\n",
              "      <td>97</td>\n",
              "      <td>Qualified candidates are encouraged to apply d...</td>\n",
              "      <td>212</td>\n",
              "      <td>What is offered:Competitive compensation packa...</td>\n",
              "      <td>0</td>\n",
              "      <td>1</td>\n",
              "      <td>1</td>\n",
              "      <td>1</td>\n",
              "      <td>5</td>\n",
              "      <td>1</td>\n",
              "      <td>49</td>\n",
              "      <td>23</td>\n",
              "      <td>1</td>\n",
              "    </tr>\n",
              "    <tr>\n",
              "      <th>1</th>\n",
              "      <td>937</td>\n",
              "      <td>938</td>\n",
              "      <td>261</td>\n",
              "      <td>106</td>\n",
              "      <td>Refined Resources</td>\n",
              "      <td>258</td>\n",
              "      <td>16</td>\n",
              "      <td></td>\n",
              "      <td>457</td>\n",
              "      <td>Please Apply for Immediate Consideration Qual...</td>\n",
              "      <td>0</td>\n",
              "      <td>1</td>\n",
              "      <td>1</td>\n",
              "      <td>1</td>\n",
              "      <td>5</td>\n",
              "      <td>1</td>\n",
              "      <td>49</td>\n",
              "      <td>23</td>\n",
              "      <td>1</td>\n",
              "    </tr>\n",
              "    <tr>\n",
              "      <th>2</th>\n",
              "      <td>5808</td>\n",
              "      <td>5809</td>\n",
              "      <td>188</td>\n",
              "      <td>186</td>\n",
              "      <td>\\tCorporate Shared Services</td>\n",
              "      <td>158</td>\n",
              "      <td>21</td>\n",
              "      <td>Act as a first point of contact for employee-r...</td>\n",
              "      <td>344</td>\n",
              "      <td>Novation offers an empowered work environment ...</td>\n",
              "      <td>0</td>\n",
              "      <td>1</td>\n",
              "      <td>1</td>\n",
              "      <td>1</td>\n",
              "      <td>2</td>\n",
              "      <td>3</td>\n",
              "      <td>33</td>\n",
              "      <td>1</td>\n",
              "      <td>1</td>\n",
              "    </tr>\n",
              "    <tr>\n",
              "      <th>3</th>\n",
              "      <td>4607</td>\n",
              "      <td>4608</td>\n",
              "      <td>72</td>\n",
              "      <td>190</td>\n",
              "      <td>CALLCENTER</td>\n",
              "      <td>137</td>\n",
              "      <td>146</td>\n",
              "      <td>Our Call Center Rep would be expected to be ex...</td>\n",
              "      <td>512</td>\n",
              "      <td>100% coverage of dental, vision and life insur...</td>\n",
              "      <td>0</td>\n",
              "      <td>1</td>\n",
              "      <td>1</td>\n",
              "      <td>1</td>\n",
              "      <td>0</td>\n",
              "      <td>3</td>\n",
              "      <td>26</td>\n",
              "      <td>7</td>\n",
              "      <td>1</td>\n",
              "    </tr>\n",
              "    <tr>\n",
              "      <th>4</th>\n",
              "      <td>11628</td>\n",
              "      <td>11629</td>\n",
              "      <td>472</td>\n",
              "      <td>151</td>\n",
              "      <td>Sales and Research</td>\n",
              "      <td>95</td>\n",
              "      <td>100</td>\n",
              "      <td>- Maintain a high level of Clearmark solution ...</td>\n",
              "      <td>305</td>\n",
              "      <td>401kHealth InsurancePaid Time OffVacation Time...</td>\n",
              "      <td>0</td>\n",
              "      <td>1</td>\n",
              "      <td>0</td>\n",
              "      <td>1</td>\n",
              "      <td>2</td>\n",
              "      <td>3</td>\n",
              "      <td>8</td>\n",
              "      <td>31</td>\n",
              "      <td>1</td>\n",
              "    </tr>\n",
              "  </tbody>\n",
              "</table>\n",
              "</div>"
            ],
            "text/plain": [
              "   index  job_id  title  location                         department  \\\n",
              "0   9823    9824    263       106  HSE (Health Safety Environmental)   \n",
              "1    937     938    261       106                  Refined Resources   \n",
              "2   5808    5809    188       186        \\tCorporate Shared Services   \n",
              "3   4607    4608     72       190                         CALLCENTER   \n",
              "4  11628   11629    472       151                 Sales and Research   \n",
              "\n",
              "   salary_range  company_profile  \\\n",
              "0           276               97   \n",
              "1           258               16   \n",
              "2           158               21   \n",
              "3           137              146   \n",
              "4            95              100   \n",
              "\n",
              "                                         description  requirements  \\\n",
              "0  Qualified candidates are encouraged to apply d...           212   \n",
              "1                                                              457   \n",
              "2  Act as a first point of contact for employee-r...           344   \n",
              "3  Our Call Center Rep would be expected to be ex...           512   \n",
              "4  - Maintain a high level of Clearmark solution ...           305   \n",
              "\n",
              "                                            benefits  telecommuting  \\\n",
              "0  What is offered:Competitive compensation packa...              0   \n",
              "1   Please Apply for Immediate Consideration Qual...              0   \n",
              "2  Novation offers an empowered work environment ...              0   \n",
              "3  100% coverage of dental, vision and life insur...              0   \n",
              "4  401kHealth InsurancePaid Time OffVacation Time...              0   \n",
              "\n",
              "   has_company_logo  has_questions  employment_type  required_experience  \\\n",
              "0                 1              1                1                    5   \n",
              "1                 1              1                1                    5   \n",
              "2                 1              1                1                    2   \n",
              "3                 1              1                1                    0   \n",
              "4                 1              0                1                    2   \n",
              "\n",
              "   required_education  industry  function  fraudulent  \n",
              "0                   1        49        23           1  \n",
              "1                   1        49        23           1  \n",
              "2                   3        33         1           1  \n",
              "3                   3        26         7           1  \n",
              "4                   3         8        31           1  "
            ]
          },
          "metadata": {
            "tags": []
          },
          "execution_count": 39
        }
      ]
    },
    {
      "cell_type": "markdown",
      "metadata": {
        "id": "2TfbTOywUMKI"
      },
      "source": [
        "Split dataset into training and testing¶"
      ]
    },
    {
      "cell_type": "code",
      "metadata": {
        "id": "y7jhMDOEUMKI"
      },
      "source": [
        "from sklearn.model_selection import train_test_split"
      ],
      "execution_count": null,
      "outputs": []
    },
    {
      "cell_type": "code",
      "metadata": {
        "id": "_0GBxjeYUMKI"
      },
      "source": [
        "X = df[['index', 'title', 'location', 'company_profile', 'requirements',\n",
        "       'telecommuting', 'has_company_logo', 'has_questions', 'employment_type',\n",
        "       'required_experience', 'required_education', 'industry', 'function',\n",
        "       'salary_range']].values\n",
        "Y = df[['fraudulent']].values"
      ],
      "execution_count": null,
      "outputs": []
    },
    {
      "cell_type": "code",
      "metadata": {
        "id": "QEOyN7KlUMKJ"
      },
      "source": [
        "X_train, X_test, Y_train, Y_test = train_test_split(X, Y)"
      ],
      "execution_count": null,
      "outputs": []
    },
    {
      "cell_type": "code",
      "metadata": {
        "id": "iNrGI0X2UMKJ",
        "outputId": "92bb0055-c61a-4363-d77d-38fc088df6da"
      },
      "source": [
        "X_train.shape, X_test.shape, Y_train.shape, Y_test.shape"
      ],
      "execution_count": null,
      "outputs": [
        {
          "output_type": "execute_result",
          "data": {
            "text/plain": [
              "((1578, 14), (527, 14), (1578, 1), (527, 1))"
            ]
          },
          "metadata": {
            "tags": []
          },
          "execution_count": 43
        }
      ]
    },
    {
      "cell_type": "markdown",
      "metadata": {
        "id": "G9ntjGf6UMKJ"
      },
      "source": [
        "Now we will apply 3 different classification algorithms to gain maximum possible accuracy score which are:\n",
        "\n",
        "1) Logistic Regression\n",
        "2) K Nearest Neighbours\n",
        "3) Random Forest\n",
        "For training these models,\n",
        "\n",
        "Independent variable : X\n",
        "Dependent variable : Y (Check if posted job is fake or not)"
      ]
    },
    {
      "cell_type": "markdown",
      "metadata": {
        "id": "HlehCAdzUMKK"
      },
      "source": [
        "##### Logistic Regression"
      ]
    },
    {
      "cell_type": "code",
      "metadata": {
        "id": "B8EwziC9UMKK"
      },
      "source": [
        "from sklearn.linear_model import LogisticRegression"
      ],
      "execution_count": null,
      "outputs": []
    },
    {
      "cell_type": "code",
      "metadata": {
        "id": "3z8jBZKhUMKP"
      },
      "source": [
        "LgR = LogisticRegression()"
      ],
      "execution_count": null,
      "outputs": []
    },
    {
      "cell_type": "code",
      "metadata": {
        "id": "tHmcP7FcUMKQ",
        "outputId": "6059ca50-8e06-46a1-d6e5-503c445b9ab7"
      },
      "source": [
        "LgR.fit(X_train, Y_train)"
      ],
      "execution_count": null,
      "outputs": [
        {
          "output_type": "stream",
          "text": [
            "C:\\Users\\gaura\\AppData\\Roaming\\Python\\Python36\\site-packages\\sklearn\\utils\\validation.py:63: DataConversionWarning: A column-vector y was passed when a 1d array was expected. Please change the shape of y to (n_samples, ), for example using ravel().\n",
            "  return f(*args, **kwargs)\n",
            "C:\\Users\\gaura\\AppData\\Roaming\\Python\\Python36\\site-packages\\sklearn\\linear_model\\_logistic.py:765: ConvergenceWarning: lbfgs failed to converge (status=1):\n",
            "STOP: TOTAL NO. of ITERATIONS REACHED LIMIT.\n",
            "\n",
            "Increase the number of iterations (max_iter) or scale the data as shown in:\n",
            "    https://scikit-learn.org/stable/modules/preprocessing.html\n",
            "Please also refer to the documentation for alternative solver options:\n",
            "    https://scikit-learn.org/stable/modules/linear_model.html#logistic-regression\n",
            "  extra_warning_msg=_LOGISTIC_SOLVER_CONVERGENCE_MSG)\n"
          ],
          "name": "stderr"
        },
        {
          "output_type": "execute_result",
          "data": {
            "text/plain": [
              "LogisticRegression()"
            ]
          },
          "metadata": {
            "tags": []
          },
          "execution_count": 46
        }
      ]
    },
    {
      "cell_type": "code",
      "metadata": {
        "id": "3AMBLU44UMKQ"
      },
      "source": [
        "Y_pred = LgR.predict(X_test)"
      ],
      "execution_count": null,
      "outputs": []
    },
    {
      "cell_type": "code",
      "metadata": {
        "id": "P9w59B8AUMKR"
      },
      "source": [
        "Y_test = Y_test.flatten()\n",
        "Y_pred = Y_pred.flatten()"
      ],
      "execution_count": null,
      "outputs": []
    },
    {
      "cell_type": "code",
      "metadata": {
        "id": "V9ILuTolUMKR",
        "outputId": "23e160e3-35f8-4461-e768-0ee0b0592219"
      },
      "source": [
        "Y_test.shape, Y_pred.shape"
      ],
      "execution_count": null,
      "outputs": [
        {
          "output_type": "execute_result",
          "data": {
            "text/plain": [
              "((527,), (527,))"
            ]
          },
          "metadata": {
            "tags": []
          },
          "execution_count": 49
        }
      ]
    },
    {
      "cell_type": "code",
      "metadata": {
        "id": "5L4mQ4aKUMKR",
        "outputId": "d513c824-7175-47f3-f91e-246d5035c178"
      },
      "source": [
        "df_lgr = pd.DataFrame({'Y_test': Y_test , 'Y_pred': Y_pred}) \n",
        "df_lgr"
      ],
      "execution_count": null,
      "outputs": [
        {
          "output_type": "execute_result",
          "data": {
            "text/html": [
              "<div>\n",
              "<style scoped>\n",
              "    .dataframe tbody tr th:only-of-type {\n",
              "        vertical-align: middle;\n",
              "    }\n",
              "\n",
              "    .dataframe tbody tr th {\n",
              "        vertical-align: top;\n",
              "    }\n",
              "\n",
              "    .dataframe thead th {\n",
              "        text-align: right;\n",
              "    }\n",
              "</style>\n",
              "<table border=\"1\" class=\"dataframe\">\n",
              "  <thead>\n",
              "    <tr style=\"text-align: right;\">\n",
              "      <th></th>\n",
              "      <th>Y_test</th>\n",
              "      <th>Y_pred</th>\n",
              "    </tr>\n",
              "  </thead>\n",
              "  <tbody>\n",
              "    <tr>\n",
              "      <th>0</th>\n",
              "      <td>1</td>\n",
              "      <td>0</td>\n",
              "    </tr>\n",
              "    <tr>\n",
              "      <th>1</th>\n",
              "      <td>0</td>\n",
              "      <td>0</td>\n",
              "    </tr>\n",
              "    <tr>\n",
              "      <th>2</th>\n",
              "      <td>1</td>\n",
              "      <td>1</td>\n",
              "    </tr>\n",
              "    <tr>\n",
              "      <th>3</th>\n",
              "      <td>1</td>\n",
              "      <td>1</td>\n",
              "    </tr>\n",
              "    <tr>\n",
              "      <th>4</th>\n",
              "      <td>0</td>\n",
              "      <td>1</td>\n",
              "    </tr>\n",
              "    <tr>\n",
              "      <th>...</th>\n",
              "      <td>...</td>\n",
              "      <td>...</td>\n",
              "    </tr>\n",
              "    <tr>\n",
              "      <th>522</th>\n",
              "      <td>1</td>\n",
              "      <td>1</td>\n",
              "    </tr>\n",
              "    <tr>\n",
              "      <th>523</th>\n",
              "      <td>1</td>\n",
              "      <td>1</td>\n",
              "    </tr>\n",
              "    <tr>\n",
              "      <th>524</th>\n",
              "      <td>1</td>\n",
              "      <td>1</td>\n",
              "    </tr>\n",
              "    <tr>\n",
              "      <th>525</th>\n",
              "      <td>1</td>\n",
              "      <td>1</td>\n",
              "    </tr>\n",
              "    <tr>\n",
              "      <th>526</th>\n",
              "      <td>0</td>\n",
              "      <td>1</td>\n",
              "    </tr>\n",
              "  </tbody>\n",
              "</table>\n",
              "<p>527 rows × 2 columns</p>\n",
              "</div>"
            ],
            "text/plain": [
              "     Y_test  Y_pred\n",
              "0         1       0\n",
              "1         0       0\n",
              "2         1       1\n",
              "3         1       1\n",
              "4         0       1\n",
              "..      ...     ...\n",
              "522       1       1\n",
              "523       1       1\n",
              "524       1       1\n",
              "525       1       1\n",
              "526       0       1\n",
              "\n",
              "[527 rows x 2 columns]"
            ]
          },
          "metadata": {
            "tags": []
          },
          "execution_count": 50
        }
      ]
    },
    {
      "cell_type": "code",
      "metadata": {
        "id": "5Mi9svmyUMKS"
      },
      "source": [
        "from sklearn.metrics import accuracy_score"
      ],
      "execution_count": null,
      "outputs": []
    },
    {
      "cell_type": "code",
      "metadata": {
        "id": "LYWpN8m-UMKS",
        "outputId": "8fb6c31f-a444-48d9-8b36-8e78286e3e5a"
      },
      "source": [
        "lr_accuracy =accuracy_score(Y_pred, Y_test)\n",
        "lr_accuracy"
      ],
      "execution_count": null,
      "outputs": [
        {
          "output_type": "execute_result",
          "data": {
            "text/plain": [
              "0.713472485768501"
            ]
          },
          "metadata": {
            "tags": []
          },
          "execution_count": 52
        }
      ]
    },
    {
      "cell_type": "code",
      "metadata": {
        "id": "goWPmSjCUMKS",
        "outputId": "dd89a5ad-945b-4952-a6cc-6ddb9ff1338b"
      },
      "source": [
        "##Logistic Regression report and analysis\n",
        "from sklearn import metrics\n",
        "lr_f1 = metrics.f1_score(Y_test,Y_pred ,average= \"weighted\")\n",
        "lr_accuracy = metrics.accuracy_score(Y_test, Y_pred)\n",
        "lr_cm = metrics.confusion_matrix(Y_test, Y_pred)\n",
        "print(\"-----------------Logistic Regression Report---------------\")\n",
        "print(\"F1 score: {}\".format(lr_f1))\n",
        "print(\"Accuracy score: {}\".format(lr_accuracy))\n",
        "print(\"Confusion matrix: \\n\", lr_cm)\n",
        "\n",
        "import seaborn as sns\n",
        "plt.subplots(figsize=(4,4))\n",
        "conf_matrix =  metrics.confusion_matrix(y_pred=Y_pred,y_true=Y_test)\n",
        "sns.heatmap(conf_matrix,annot=True,fmt=\".1f\",linewidths=1.5)\n",
        "plt.xlabel(\"Predicted Label\")\n",
        "plt.ylabel(\"Actual Label\")\n",
        "plt.show()"
      ],
      "execution_count": null,
      "outputs": [
        {
          "output_type": "stream",
          "text": [
            "-----------------Logistic Regression Report---------------\n",
            "F1 score: 0.6945285391256304\n",
            "Accuracy score: 0.713472485768501\n",
            "Confusion matrix: \n",
            " [[ 71 107]\n",
            " [ 44 305]]\n"
          ],
          "name": "stdout"
        },
        {
          "output_type": "display_data",
          "data": {
            "image/png": "[encoded data removed]",
            "text/plain": [
              "<Figure size 288x288 with 2 Axes>"
            ]
          },
          "metadata": {
            "tags": []
          }
        }
      ]
    },
    {
      "cell_type": "markdown",
      "metadata": {
        "id": "2ANq3QcFUMKT"
      },
      "source": [
        "Acuracy with logistic regression is 75%\n"
      ]
    },
    {
      "cell_type": "markdown",
      "metadata": {
        "id": "0GHIDLYCUMKT"
      },
      "source": [
        "##### K Nearest Neighbour"
      ]
    },
    {
      "cell_type": "code",
      "metadata": {
        "id": "q-wUnut7UMKT"
      },
      "source": [
        "from sklearn.neighbors import KNeighborsClassifier"
      ],
      "execution_count": null,
      "outputs": []
    },
    {
      "cell_type": "code",
      "metadata": {
        "id": "LmQtj9n6UMKT"
      },
      "source": [
        "knn = KNeighborsClassifier()"
      ],
      "execution_count": null,
      "outputs": []
    },
    {
      "cell_type": "code",
      "metadata": {
        "id": "5vLZQUnKUMKT",
        "outputId": "0edce20b-1ddb-414d-cd55-a6831437f738"
      },
      "source": [
        "knn.fit(X_train,Y_train)"
      ],
      "execution_count": null,
      "outputs": [
        {
          "output_type": "stream",
          "text": [
            "C:\\Users\\gaura\\AppData\\Roaming\\Python\\Python36\\site-packages\\sklearn\\neighbors\\_classification.py:179: DataConversionWarning: A column-vector y was passed when a 1d array was expected. Please change the shape of y to (n_samples,), for example using ravel().\n",
            "  return self._fit(X, y)\n"
          ],
          "name": "stderr"
        },
        {
          "output_type": "execute_result",
          "data": {
            "text/plain": [
              "KNeighborsClassifier()"
            ]
          },
          "metadata": {
            "tags": []
          },
          "execution_count": 56
        }
      ]
    },
    {
      "cell_type": "code",
      "metadata": {
        "id": "phYybO8eUMKU"
      },
      "source": [
        "Y_pred = knn.predict(X_test)"
      ],
      "execution_count": null,
      "outputs": []
    },
    {
      "cell_type": "code",
      "metadata": {
        "id": "k4r9K6JIUMKU"
      },
      "source": [
        "Y_test = Y_test.flatten()\n",
        "Y_pred = Y_pred.flatten()"
      ],
      "execution_count": null,
      "outputs": []
    },
    {
      "cell_type": "code",
      "metadata": {
        "id": "QlQw70qqUMKU",
        "outputId": "519d5c0c-c940-4e2e-e145-8d2cd3474065"
      },
      "source": [
        "df_knn = pd.DataFrame({'Y_test': Y_test , 'Y_pred': Y_pred}) \n",
        "df_knn"
      ],
      "execution_count": null,
      "outputs": [
        {
          "output_type": "execute_result",
          "data": {
            "text/html": [
              "<div>\n",
              "<style scoped>\n",
              "    .dataframe tbody tr th:only-of-type {\n",
              "        vertical-align: middle;\n",
              "    }\n",
              "\n",
              "    .dataframe tbody tr th {\n",
              "        vertical-align: top;\n",
              "    }\n",
              "\n",
              "    .dataframe thead th {\n",
              "        text-align: right;\n",
              "    }\n",
              "</style>\n",
              "<table border=\"1\" class=\"dataframe\">\n",
              "  <thead>\n",
              "    <tr style=\"text-align: right;\">\n",
              "      <th></th>\n",
              "      <th>Y_test</th>\n",
              "      <th>Y_pred</th>\n",
              "    </tr>\n",
              "  </thead>\n",
              "  <tbody>\n",
              "    <tr>\n",
              "      <th>0</th>\n",
              "      <td>1</td>\n",
              "      <td>1</td>\n",
              "    </tr>\n",
              "    <tr>\n",
              "      <th>1</th>\n",
              "      <td>0</td>\n",
              "      <td>0</td>\n",
              "    </tr>\n",
              "    <tr>\n",
              "      <th>2</th>\n",
              "      <td>1</td>\n",
              "      <td>1</td>\n",
              "    </tr>\n",
              "    <tr>\n",
              "      <th>3</th>\n",
              "      <td>1</td>\n",
              "      <td>1</td>\n",
              "    </tr>\n",
              "    <tr>\n",
              "      <th>4</th>\n",
              "      <td>0</td>\n",
              "      <td>0</td>\n",
              "    </tr>\n",
              "    <tr>\n",
              "      <th>...</th>\n",
              "      <td>...</td>\n",
              "      <td>...</td>\n",
              "    </tr>\n",
              "    <tr>\n",
              "      <th>522</th>\n",
              "      <td>1</td>\n",
              "      <td>1</td>\n",
              "    </tr>\n",
              "    <tr>\n",
              "      <th>523</th>\n",
              "      <td>1</td>\n",
              "      <td>1</td>\n",
              "    </tr>\n",
              "    <tr>\n",
              "      <th>524</th>\n",
              "      <td>1</td>\n",
              "      <td>1</td>\n",
              "    </tr>\n",
              "    <tr>\n",
              "      <th>525</th>\n",
              "      <td>1</td>\n",
              "      <td>1</td>\n",
              "    </tr>\n",
              "    <tr>\n",
              "      <th>526</th>\n",
              "      <td>0</td>\n",
              "      <td>0</td>\n",
              "    </tr>\n",
              "  </tbody>\n",
              "</table>\n",
              "<p>527 rows × 2 columns</p>\n",
              "</div>"
            ],
            "text/plain": [
              "     Y_test  Y_pred\n",
              "0         1       1\n",
              "1         0       0\n",
              "2         1       1\n",
              "3         1       1\n",
              "4         0       0\n",
              "..      ...     ...\n",
              "522       1       1\n",
              "523       1       1\n",
              "524       1       1\n",
              "525       1       1\n",
              "526       0       0\n",
              "\n",
              "[527 rows x 2 columns]"
            ]
          },
          "metadata": {
            "tags": []
          },
          "execution_count": 59
        }
      ]
    },
    {
      "cell_type": "code",
      "metadata": {
        "id": "O6P_s0LnUMKU",
        "outputId": "18ce223e-e91e-4c5c-bffd-3c66e5d5c0c1"
      },
      "source": [
        "# Accuracy of the model\n",
        "knn_accuracy= accuracy_score(Y_pred,Y_test)\n",
        "knn_accuracy"
      ],
      "execution_count": null,
      "outputs": [
        {
          "output_type": "execute_result",
          "data": {
            "text/plain": [
              "0.9222011385199241"
            ]
          },
          "metadata": {
            "tags": []
          },
          "execution_count": 60
        }
      ]
    },
    {
      "cell_type": "markdown",
      "metadata": {
        "id": "lr3FTTCwUMKV"
      },
      "source": [
        "Accuracy with knn is 94%"
      ]
    },
    {
      "cell_type": "code",
      "metadata": {
        "id": "MYNy_x1NUMKV",
        "outputId": "f6610ba3-9629-4d37-9486-9752fea634f8"
      },
      "source": [
        "##KNN report and analysis\n",
        "from sklearn import metrics\n",
        "knn_f1 = metrics.f1_score(Y_test,Y_pred ,average= \"weighted\")\n",
        "knn_accuracy = metrics.accuracy_score(Y_test, Y_pred)\n",
        "knn_cm = metrics.confusion_matrix(Y_test, Y_pred)\n",
        "print(\"-----------------KNN Report---------------\")\n",
        "print(\"F1 score: {}\".format(knn_f1))\n",
        "print(\"Accuracy score: {}\".format(knn_accuracy))\n",
        "print(\"Confusion matrix: \\n\", knn_cm)\n",
        "\n",
        "import seaborn as sns\n",
        "plt.subplots(figsize=(4,4))\n",
        "conf_matrix =  metrics.confusion_matrix(y_pred=Y_pred,y_true=Y_test)\n",
        "sns.heatmap(conf_matrix,annot=True,fmt=\".1f\",linewidths=1.5)\n",
        "plt.xlabel(\"Predicted Label\")\n",
        "plt.ylabel(\"Actual Label\")\n",
        "plt.show()"
      ],
      "execution_count": null,
      "outputs": [
        {
          "output_type": "stream",
          "text": [
            "-----------------KNN Report---------------\n",
            "F1 score: 0.9192961931669812\n",
            "Accuracy score: 0.9222011385199241\n",
            "Confusion matrix: \n",
            " [[137  41]\n",
            " [  0 349]]\n"
          ],
          "name": "stdout"
        },
        {
          "output_type": "display_data",
          "data": {
            "image/png": "[encoded data removed]",
            "text/plain": [
              "<Figure size 288x288 with 2 Axes>"
            ]
          },
          "metadata": {
            "tags": []
          }
        }
      ]
    },
    {
      "cell_type": "markdown",
      "metadata": {
        "id": "ChcqSQ-KUMKV"
      },
      "source": [
        "##### SVM Classification"
      ]
    },
    {
      "cell_type": "code",
      "metadata": {
        "id": "JAr6zm9oUMKV"
      },
      "source": [
        "from sklearn.svm import SVC"
      ],
      "execution_count": null,
      "outputs": []
    },
    {
      "cell_type": "code",
      "metadata": {
        "id": "hGf7zE11UMKV",
        "outputId": "33d02815-4690-4d6d-fd83-4ca11b9728e6"
      },
      "source": [
        "svm = SVC(random_state= 585, gamma=\"scale\")\n",
        "svm.fit(X_train,Y_train)\n",
        "Y_pred = svm.predict(X_test)"
      ],
      "execution_count": null,
      "outputs": [
        {
          "output_type": "stream",
          "text": [
            "C:\\Users\\gaura\\AppData\\Roaming\\Python\\Python36\\site-packages\\sklearn\\utils\\validation.py:63: DataConversionWarning: A column-vector y was passed when a 1d array was expected. Please change the shape of y to (n_samples, ), for example using ravel().\n",
            "  return f(*args, **kwargs)\n"
          ],
          "name": "stderr"
        }
      ]
    },
    {
      "cell_type": "code",
      "metadata": {
        "id": "YkZry_dYUMKW"
      },
      "source": [
        "Y_test = Y_test.flatten()\n",
        "Y_pred = Y_pred.flatten()"
      ],
      "execution_count": null,
      "outputs": []
    },
    {
      "cell_type": "code",
      "metadata": {
        "id": "j-3IH9kFUMKW",
        "outputId": "48768bff-4292-4ee9-cedf-527bdc673cb9"
      },
      "source": [
        "df_svm= pd.DataFrame({'Y_test': Y_test , 'Y_pred': Y_pred}) \n",
        "df_svm"
      ],
      "execution_count": null,
      "outputs": [
        {
          "output_type": "execute_result",
          "data": {
            "text/html": [
              "<div>\n",
              "<style scoped>\n",
              "    .dataframe tbody tr th:only-of-type {\n",
              "        vertical-align: middle;\n",
              "    }\n",
              "\n",
              "    .dataframe tbody tr th {\n",
              "        vertical-align: top;\n",
              "    }\n",
              "\n",
              "    .dataframe thead th {\n",
              "        text-align: right;\n",
              "    }\n",
              "</style>\n",
              "<table border=\"1\" class=\"dataframe\">\n",
              "  <thead>\n",
              "    <tr style=\"text-align: right;\">\n",
              "      <th></th>\n",
              "      <th>Y_test</th>\n",
              "      <th>Y_pred</th>\n",
              "    </tr>\n",
              "  </thead>\n",
              "  <tbody>\n",
              "    <tr>\n",
              "      <th>0</th>\n",
              "      <td>1</td>\n",
              "      <td>0</td>\n",
              "    </tr>\n",
              "    <tr>\n",
              "      <th>1</th>\n",
              "      <td>0</td>\n",
              "      <td>0</td>\n",
              "    </tr>\n",
              "    <tr>\n",
              "      <th>2</th>\n",
              "      <td>1</td>\n",
              "      <td>1</td>\n",
              "    </tr>\n",
              "    <tr>\n",
              "      <th>3</th>\n",
              "      <td>1</td>\n",
              "      <td>1</td>\n",
              "    </tr>\n",
              "    <tr>\n",
              "      <th>4</th>\n",
              "      <td>0</td>\n",
              "      <td>1</td>\n",
              "    </tr>\n",
              "    <tr>\n",
              "      <th>...</th>\n",
              "      <td>...</td>\n",
              "      <td>...</td>\n",
              "    </tr>\n",
              "    <tr>\n",
              "      <th>522</th>\n",
              "      <td>1</td>\n",
              "      <td>1</td>\n",
              "    </tr>\n",
              "    <tr>\n",
              "      <th>523</th>\n",
              "      <td>1</td>\n",
              "      <td>1</td>\n",
              "    </tr>\n",
              "    <tr>\n",
              "      <th>524</th>\n",
              "      <td>1</td>\n",
              "      <td>1</td>\n",
              "    </tr>\n",
              "    <tr>\n",
              "      <th>525</th>\n",
              "      <td>1</td>\n",
              "      <td>1</td>\n",
              "    </tr>\n",
              "    <tr>\n",
              "      <th>526</th>\n",
              "      <td>0</td>\n",
              "      <td>1</td>\n",
              "    </tr>\n",
              "  </tbody>\n",
              "</table>\n",
              "<p>527 rows × 2 columns</p>\n",
              "</div>"
            ],
            "text/plain": [
              "     Y_test  Y_pred\n",
              "0         1       0\n",
              "1         0       0\n",
              "2         1       1\n",
              "3         1       1\n",
              "4         0       1\n",
              "..      ...     ...\n",
              "522       1       1\n",
              "523       1       1\n",
              "524       1       1\n",
              "525       1       1\n",
              "526       0       1\n",
              "\n",
              "[527 rows x 2 columns]"
            ]
          },
          "metadata": {
            "tags": []
          },
          "execution_count": 65
        }
      ]
    },
    {
      "cell_type": "code",
      "metadata": {
        "id": "vEOYeYGZUMKW",
        "outputId": "ad77009e-602a-4b28-c2a8-085a48f6e4d1"
      },
      "source": [
        "svm_accuracy=accuracy_score(Y_pred,Y_test)\n",
        "svm_accuracy"
      ],
      "execution_count": null,
      "outputs": [
        {
          "output_type": "execute_result",
          "data": {
            "text/plain": [
              "0.715370018975332"
            ]
          },
          "metadata": {
            "tags": []
          },
          "execution_count": 66
        }
      ]
    },
    {
      "cell_type": "code",
      "metadata": {
        "id": "JyxikKaKUMKW",
        "outputId": "f387c372-8436-4c7e-dc00-449b7505a978"
      },
      "source": [
        "## SVM report and analysis\n",
        "from sklearn import metrics\n",
        "svm_f1 = metrics.f1_score(Y_test,Y_pred ,average= \"weighted\")\n",
        "svm_accuracy = metrics.accuracy_score(Y_test, Y_pred)\n",
        "svm_cm = metrics.confusion_matrix(Y_test, Y_pred)\n",
        "print(\"-----------------SVM Report---------------\")\n",
        "print(\"F1 score: {}\".format(svm_f1))\n",
        "print(\"Accuracy score: {}\".format(svm_accuracy))\n",
        "print(\"Confusion matrix: \\n\", svm_cm)\n",
        "\n",
        "import seaborn as sns\n",
        "plt.subplots(figsize=(4,4))\n",
        "conf_matrix =  metrics.confusion_matrix(y_pred=Y_pred,y_true=Y_test)\n",
        "sns.heatmap(conf_matrix,annot=True,fmt=\".1f\",linewidths=1.5)\n",
        "plt.xlabel(\"Predicted Label\")\n",
        "plt.ylabel(\"Actual Label\")\n",
        "plt.show()"
      ],
      "execution_count": null,
      "outputs": [
        {
          "output_type": "stream",
          "text": [
            "-----------------SVM Report---------------\n",
            "F1 score: 0.6834725806415402\n",
            "Accuracy score: 0.715370018975332\n",
            "Confusion matrix: \n",
            " [[ 58 120]\n",
            " [ 30 319]]\n"
          ],
          "name": "stdout"
        },
        {
          "output_type": "display_data",
          "data": {
            "image/png": "[encoded data removed]",
            "text/plain": [
              "<Figure size 288x288 with 2 Axes>"
            ]
          },
          "metadata": {
            "tags": []
          }
        }
      ]
    },
    {
      "cell_type": "markdown",
      "metadata": {
        "id": "w3WC0tBOUMKX"
      },
      "source": [
        "##### Naive Bayes Classification"
      ]
    },
    {
      "cell_type": "code",
      "metadata": {
        "id": "Pqi9nIGwUMKX"
      },
      "source": [
        "from sklearn.naive_bayes import GaussianNB"
      ],
      "execution_count": null,
      "outputs": []
    },
    {
      "cell_type": "code",
      "metadata": {
        "id": "QGCAomvWUMKX",
        "outputId": "b66d752b-29c7-464f-8727-c883bfab6a34"
      },
      "source": [
        "nb = GaussianNB()\n",
        "nb.fit(X_train,Y_train)\n",
        "Y_pred = nb.predict(X_test)"
      ],
      "execution_count": null,
      "outputs": [
        {
          "output_type": "stream",
          "text": [
            "C:\\Users\\gaura\\AppData\\Roaming\\Python\\Python36\\site-packages\\sklearn\\utils\\validation.py:63: DataConversionWarning: A column-vector y was passed when a 1d array was expected. Please change the shape of y to (n_samples, ), for example using ravel().\n",
            "  return f(*args, **kwargs)\n"
          ],
          "name": "stderr"
        }
      ]
    },
    {
      "cell_type": "code",
      "metadata": {
        "id": "m60h2zxfUMKY"
      },
      "source": [
        "Y_test = Y_test.flatten()\n",
        "Y_pred = Y_pred.flatten()"
      ],
      "execution_count": null,
      "outputs": []
    },
    {
      "cell_type": "code",
      "metadata": {
        "id": "a2i6HfcwUMKY",
        "outputId": "59415ae6-818f-4bbc-ad94-1fc2217725a0"
      },
      "source": [
        "df_nb= pd.DataFrame({'Y_test': Y_test , 'Y_pred': Y_pred}) \n",
        "df_nb"
      ],
      "execution_count": null,
      "outputs": [
        {
          "output_type": "execute_result",
          "data": {
            "text/html": [
              "<div>\n",
              "<style scoped>\n",
              "    .dataframe tbody tr th:only-of-type {\n",
              "        vertical-align: middle;\n",
              "    }\n",
              "\n",
              "    .dataframe tbody tr th {\n",
              "        vertical-align: top;\n",
              "    }\n",
              "\n",
              "    .dataframe thead th {\n",
              "        text-align: right;\n",
              "    }\n",
              "</style>\n",
              "<table border=\"1\" class=\"dataframe\">\n",
              "  <thead>\n",
              "    <tr style=\"text-align: right;\">\n",
              "      <th></th>\n",
              "      <th>Y_test</th>\n",
              "      <th>Y_pred</th>\n",
              "    </tr>\n",
              "  </thead>\n",
              "  <tbody>\n",
              "    <tr>\n",
              "      <th>0</th>\n",
              "      <td>1</td>\n",
              "      <td>1</td>\n",
              "    </tr>\n",
              "    <tr>\n",
              "      <th>1</th>\n",
              "      <td>0</td>\n",
              "      <td>0</td>\n",
              "    </tr>\n",
              "    <tr>\n",
              "      <th>2</th>\n",
              "      <td>1</td>\n",
              "      <td>1</td>\n",
              "    </tr>\n",
              "    <tr>\n",
              "      <th>3</th>\n",
              "      <td>1</td>\n",
              "      <td>1</td>\n",
              "    </tr>\n",
              "    <tr>\n",
              "      <th>4</th>\n",
              "      <td>0</td>\n",
              "      <td>1</td>\n",
              "    </tr>\n",
              "    <tr>\n",
              "      <th>...</th>\n",
              "      <td>...</td>\n",
              "      <td>...</td>\n",
              "    </tr>\n",
              "    <tr>\n",
              "      <th>522</th>\n",
              "      <td>1</td>\n",
              "      <td>1</td>\n",
              "    </tr>\n",
              "    <tr>\n",
              "      <th>523</th>\n",
              "      <td>1</td>\n",
              "      <td>1</td>\n",
              "    </tr>\n",
              "    <tr>\n",
              "      <th>524</th>\n",
              "      <td>1</td>\n",
              "      <td>1</td>\n",
              "    </tr>\n",
              "    <tr>\n",
              "      <th>525</th>\n",
              "      <td>1</td>\n",
              "      <td>1</td>\n",
              "    </tr>\n",
              "    <tr>\n",
              "      <th>526</th>\n",
              "      <td>0</td>\n",
              "      <td>1</td>\n",
              "    </tr>\n",
              "  </tbody>\n",
              "</table>\n",
              "<p>527 rows × 2 columns</p>\n",
              "</div>"
            ],
            "text/plain": [
              "     Y_test  Y_pred\n",
              "0         1       1\n",
              "1         0       0\n",
              "2         1       1\n",
              "3         1       1\n",
              "4         0       1\n",
              "..      ...     ...\n",
              "522       1       1\n",
              "523       1       1\n",
              "524       1       1\n",
              "525       1       1\n",
              "526       0       1\n",
              "\n",
              "[527 rows x 2 columns]"
            ]
          },
          "metadata": {
            "tags": []
          },
          "execution_count": 72
        }
      ]
    },
    {
      "cell_type": "code",
      "metadata": {
        "id": "uBu5TsVWUMKY",
        "outputId": "32360653-57cb-419d-ed7a-dd5780f8678c"
      },
      "source": [
        "nb_accuracy=accuracy_score(Y_pred,Y_test)\n",
        "nb_accuracy"
      ],
      "execution_count": null,
      "outputs": [
        {
          "output_type": "execute_result",
          "data": {
            "text/plain": [
              "0.855787476280835"
            ]
          },
          "metadata": {
            "tags": []
          },
          "execution_count": 73
        }
      ]
    },
    {
      "cell_type": "code",
      "metadata": {
        "id": "QUnzPfg4UMKY",
        "outputId": "86d9141f-1b92-4e43-8386-49210c02163a"
      },
      "source": [
        "## Naive Bayes report and analysis\n",
        "from sklearn import metrics\n",
        "nb_f1 = metrics.f1_score(Y_test,Y_pred ,average= \"weighted\")\n",
        "nb_accuracy = metrics.accuracy_score(Y_test, Y_pred)\n",
        "nb_cm = metrics.confusion_matrix(Y_test, Y_pred)\n",
        "print(\"-----------------Decision Tree Report---------------\")\n",
        "print(\"F1 score: {}\".format(nb_f1))\n",
        "print(\"Accuracy score: {}\".format(nb_accuracy))\n",
        "print(\"Confusion matrix: \\n\", nb_cm)\n",
        "\n",
        "import seaborn as sns\n",
        "plt.subplots(figsize=(4,4))\n",
        "conf_matrix =  metrics.confusion_matrix(y_pred=Y_pred,y_true=Y_test)\n",
        "sns.heatmap(conf_matrix,annot=True,fmt=\".1f\",linewidths=1.5)\n",
        "plt.xlabel(\"Predicted Label\")\n",
        "plt.ylabel(\"Actual Label\")\n",
        "plt.show()"
      ],
      "execution_count": null,
      "outputs": [
        {
          "output_type": "stream",
          "text": [
            "-----------------Decision Tree Report---------------\n",
            "F1 score: 0.8565362146584818\n",
            "Accuracy score: 0.855787476280835\n",
            "Confusion matrix: \n",
            " [[144  34]\n",
            " [ 42 307]]\n"
          ],
          "name": "stdout"
        },
        {
          "output_type": "display_data",
          "data": {
            "image/png": "[encoded data removed]",
            "text/plain": [
              "<Figure size 288x288 with 2 Axes>"
            ]
          },
          "metadata": {
            "tags": []
          }
        }
      ]
    },
    {
      "cell_type": "markdown",
      "metadata": {
        "id": "w0lSZQ0hUMKZ"
      },
      "source": [
        "##### Decision Tree Classification"
      ]
    },
    {
      "cell_type": "code",
      "metadata": {
        "id": "2RK4e76vUMKZ"
      },
      "source": [
        "from sklearn.tree import DecisionTreeClassifier"
      ],
      "execution_count": null,
      "outputs": []
    },
    {
      "cell_type": "code",
      "metadata": {
        "id": "gVy7C60pUMKZ"
      },
      "source": [
        "dt = DecisionTreeClassifier()\n",
        "dt.fit(X_train,Y_train)\n",
        "Y_pred = dt.predict(X_test)"
      ],
      "execution_count": null,
      "outputs": []
    },
    {
      "cell_type": "code",
      "metadata": {
        "id": "AHeF_niKUMKa"
      },
      "source": [
        "Y_test = Y_test.flatten()\n",
        "Y_pred = Y_pred.flatten()"
      ],
      "execution_count": null,
      "outputs": []
    },
    {
      "cell_type": "code",
      "metadata": {
        "id": "1rg6Vt3kUMKa",
        "outputId": "0205b721-cc41-4f18-ea0a-1fc636d8d55f"
      },
      "source": [
        "df_dt= pd.DataFrame({'Y_test': Y_test , 'Y_pred': Y_pred}) \n",
        "df_dt"
      ],
      "execution_count": null,
      "outputs": [
        {
          "output_type": "execute_result",
          "data": {
            "text/html": [
              "<div>\n",
              "<style scoped>\n",
              "    .dataframe tbody tr th:only-of-type {\n",
              "        vertical-align: middle;\n",
              "    }\n",
              "\n",
              "    .dataframe tbody tr th {\n",
              "        vertical-align: top;\n",
              "    }\n",
              "\n",
              "    .dataframe thead th {\n",
              "        text-align: right;\n",
              "    }\n",
              "</style>\n",
              "<table border=\"1\" class=\"dataframe\">\n",
              "  <thead>\n",
              "    <tr style=\"text-align: right;\">\n",
              "      <th></th>\n",
              "      <th>Y_test</th>\n",
              "      <th>Y_pred</th>\n",
              "    </tr>\n",
              "  </thead>\n",
              "  <tbody>\n",
              "    <tr>\n",
              "      <th>0</th>\n",
              "      <td>1</td>\n",
              "      <td>1</td>\n",
              "    </tr>\n",
              "    <tr>\n",
              "      <th>1</th>\n",
              "      <td>0</td>\n",
              "      <td>0</td>\n",
              "    </tr>\n",
              "    <tr>\n",
              "      <th>2</th>\n",
              "      <td>1</td>\n",
              "      <td>1</td>\n",
              "    </tr>\n",
              "    <tr>\n",
              "      <th>3</th>\n",
              "      <td>1</td>\n",
              "      <td>1</td>\n",
              "    </tr>\n",
              "    <tr>\n",
              "      <th>4</th>\n",
              "      <td>0</td>\n",
              "      <td>0</td>\n",
              "    </tr>\n",
              "    <tr>\n",
              "      <th>...</th>\n",
              "      <td>...</td>\n",
              "      <td>...</td>\n",
              "    </tr>\n",
              "    <tr>\n",
              "      <th>522</th>\n",
              "      <td>1</td>\n",
              "      <td>1</td>\n",
              "    </tr>\n",
              "    <tr>\n",
              "      <th>523</th>\n",
              "      <td>1</td>\n",
              "      <td>1</td>\n",
              "    </tr>\n",
              "    <tr>\n",
              "      <th>524</th>\n",
              "      <td>1</td>\n",
              "      <td>1</td>\n",
              "    </tr>\n",
              "    <tr>\n",
              "      <th>525</th>\n",
              "      <td>1</td>\n",
              "      <td>1</td>\n",
              "    </tr>\n",
              "    <tr>\n",
              "      <th>526</th>\n",
              "      <td>0</td>\n",
              "      <td>0</td>\n",
              "    </tr>\n",
              "  </tbody>\n",
              "</table>\n",
              "<p>527 rows × 2 columns</p>\n",
              "</div>"
            ],
            "text/plain": [
              "     Y_test  Y_pred\n",
              "0         1       1\n",
              "1         0       0\n",
              "2         1       1\n",
              "3         1       1\n",
              "4         0       0\n",
              "..      ...     ...\n",
              "522       1       1\n",
              "523       1       1\n",
              "524       1       1\n",
              "525       1       1\n",
              "526       0       0\n",
              "\n",
              "[527 rows x 2 columns]"
            ]
          },
          "metadata": {
            "tags": []
          },
          "execution_count": 78
        }
      ]
    },
    {
      "cell_type": "code",
      "metadata": {
        "id": "kBE80I0lUMKa",
        "outputId": "a8c4430f-ebc6-4680-f781-fd719b0cc5b4"
      },
      "source": [
        "dt_accuracy=accuracy_score(Y_pred,Y_test)\n",
        "dt_accuracy"
      ],
      "execution_count": null,
      "outputs": [
        {
          "output_type": "execute_result",
          "data": {
            "text/plain": [
              "0.9924098671726755"
            ]
          },
          "metadata": {
            "tags": []
          },
          "execution_count": 79
        }
      ]
    },
    {
      "cell_type": "code",
      "metadata": {
        "id": "LNJS3ZUEUMKa",
        "outputId": "b6d470f0-5828-4274-96d2-f0a72e98dcac"
      },
      "source": [
        "##Decision Tree report and analysis\n",
        "from sklearn import metrics\n",
        "dt_f1 = metrics.f1_score(Y_test,Y_pred ,average= \"weighted\")\n",
        "dt_accuracy = metrics.accuracy_score(Y_test, Y_pred)\n",
        "dt_cm = metrics.confusion_matrix(Y_test, Y_pred)\n",
        "print(\"-----------------Decision Tree Report---------------\")\n",
        "print(\"F1 score: {}\".format(dt_f1))\n",
        "print(\"Accuracy score: {}\".format(dt_accuracy))\n",
        "print(\"Confusion matrix: \\n\", dt_cm)\n",
        "\n",
        "import seaborn as sns\n",
        "plt.subplots(figsize=(4,4))\n",
        "conf_matrix =  metrics.confusion_matrix(y_pred=Y_pred,y_true=Y_test)\n",
        "sns.heatmap(conf_matrix,annot=True,fmt=\".1f\",linewidths=1.5)\n",
        "plt.xlabel(\"Predicted Label\")\n",
        "plt.ylabel(\"Actual Label\")\n",
        "plt.show()"
      ],
      "execution_count": null,
      "outputs": [
        {
          "output_type": "stream",
          "text": [
            "-----------------Decision Tree Report---------------\n",
            "F1 score: 0.9923883657280241\n",
            "Accuracy score: 0.9924098671726755\n",
            "Confusion matrix: \n",
            " [[174   4]\n",
            " [  0 349]]\n"
          ],
          "name": "stdout"
        },
        {
          "output_type": "display_data",
          "data": {
            "image/png": "[encoded data removed]",
            "text/plain": [
              "<Figure size 288x288 with 2 Axes>"
            ]
          },
          "metadata": {
            "tags": []
          }
        }
      ]
    },
    {
      "cell_type": "markdown",
      "metadata": {
        "id": "rGRJPm6KUMKb"
      },
      "source": [
        "##### Random Forest "
      ]
    },
    {
      "cell_type": "code",
      "metadata": {
        "id": "E_UUPyzOUMKb"
      },
      "source": [
        "from sklearn.ensemble import RandomForestClassifier"
      ],
      "execution_count": null,
      "outputs": []
    },
    {
      "cell_type": "code",
      "metadata": {
        "id": "Q74HamahUMKb"
      },
      "source": [
        "rfc = RandomForestClassifier(n_estimators=5)"
      ],
      "execution_count": null,
      "outputs": []
    },
    {
      "cell_type": "code",
      "metadata": {
        "id": "jjd3ESnxUMKb",
        "outputId": "1bc2fb3e-75da-4405-f831-5f581288019f"
      },
      "source": [
        "rfc.fit(X_train, Y_train)"
      ],
      "execution_count": null,
      "outputs": [
        {
          "output_type": "stream",
          "text": [
            "C:\\Users\\gaura\\anaconda3\\envs\\DAB 400\\lib\\site-packages\\ipykernel_launcher.py:1: DataConversionWarning: A column-vector y was passed when a 1d array was expected. Please change the shape of y to (n_samples,), for example using ravel().\n",
            "  \"\"\"Entry point for launching an IPython kernel.\n"
          ],
          "name": "stderr"
        },
        {
          "output_type": "execute_result",
          "data": {
            "text/plain": [
              "RandomForestClassifier(n_estimators=5)"
            ]
          },
          "metadata": {
            "tags": []
          },
          "execution_count": 83
        }
      ]
    },
    {
      "cell_type": "code",
      "metadata": {
        "id": "YoXhQuYDUMKb"
      },
      "source": [
        "Y_pred = rfc.predict(X_test)"
      ],
      "execution_count": null,
      "outputs": []
    },
    {
      "cell_type": "code",
      "metadata": {
        "id": "_r9l0AL-UMKc"
      },
      "source": [
        "Y_test = Y_test.flatten()\n",
        "Y_pred = Y_pred.flatten()"
      ],
      "execution_count": null,
      "outputs": []
    },
    {
      "cell_type": "code",
      "metadata": {
        "id": "83-P0VaxUMKc",
        "outputId": "9851ed6f-5d2b-4d1d-fca3-c847653e0b77"
      },
      "source": [
        "df_rfc = pd.DataFrame({'Y_test': Y_test , 'Y_pred': Y_pred}) \n",
        "df_rfc"
      ],
      "execution_count": null,
      "outputs": [
        {
          "output_type": "execute_result",
          "data": {
            "text/html": [
              "<div>\n",
              "<style scoped>\n",
              "    .dataframe tbody tr th:only-of-type {\n",
              "        vertical-align: middle;\n",
              "    }\n",
              "\n",
              "    .dataframe tbody tr th {\n",
              "        vertical-align: top;\n",
              "    }\n",
              "\n",
              "    .dataframe thead th {\n",
              "        text-align: right;\n",
              "    }\n",
              "</style>\n",
              "<table border=\"1\" class=\"dataframe\">\n",
              "  <thead>\n",
              "    <tr style=\"text-align: right;\">\n",
              "      <th></th>\n",
              "      <th>Y_test</th>\n",
              "      <th>Y_pred</th>\n",
              "    </tr>\n",
              "  </thead>\n",
              "  <tbody>\n",
              "    <tr>\n",
              "      <th>0</th>\n",
              "      <td>1</td>\n",
              "      <td>1</td>\n",
              "    </tr>\n",
              "    <tr>\n",
              "      <th>1</th>\n",
              "      <td>0</td>\n",
              "      <td>0</td>\n",
              "    </tr>\n",
              "    <tr>\n",
              "      <th>2</th>\n",
              "      <td>1</td>\n",
              "      <td>1</td>\n",
              "    </tr>\n",
              "    <tr>\n",
              "      <th>3</th>\n",
              "      <td>1</td>\n",
              "      <td>1</td>\n",
              "    </tr>\n",
              "    <tr>\n",
              "      <th>4</th>\n",
              "      <td>0</td>\n",
              "      <td>0</td>\n",
              "    </tr>\n",
              "    <tr>\n",
              "      <th>...</th>\n",
              "      <td>...</td>\n",
              "      <td>...</td>\n",
              "    </tr>\n",
              "    <tr>\n",
              "      <th>522</th>\n",
              "      <td>1</td>\n",
              "      <td>1</td>\n",
              "    </tr>\n",
              "    <tr>\n",
              "      <th>523</th>\n",
              "      <td>1</td>\n",
              "      <td>1</td>\n",
              "    </tr>\n",
              "    <tr>\n",
              "      <th>524</th>\n",
              "      <td>1</td>\n",
              "      <td>1</td>\n",
              "    </tr>\n",
              "    <tr>\n",
              "      <th>525</th>\n",
              "      <td>1</td>\n",
              "      <td>1</td>\n",
              "    </tr>\n",
              "    <tr>\n",
              "      <th>526</th>\n",
              "      <td>0</td>\n",
              "      <td>0</td>\n",
              "    </tr>\n",
              "  </tbody>\n",
              "</table>\n",
              "<p>527 rows × 2 columns</p>\n",
              "</div>"
            ],
            "text/plain": [
              "     Y_test  Y_pred\n",
              "0         1       1\n",
              "1         0       0\n",
              "2         1       1\n",
              "3         1       1\n",
              "4         0       0\n",
              "..      ...     ...\n",
              "522       1       1\n",
              "523       1       1\n",
              "524       1       1\n",
              "525       1       1\n",
              "526       0       0\n",
              "\n",
              "[527 rows x 2 columns]"
            ]
          },
          "metadata": {
            "tags": []
          },
          "execution_count": 86
        }
      ]
    },
    {
      "cell_type": "code",
      "metadata": {
        "id": "QAWtI3aQUMKc",
        "outputId": "be8a9937-07d0-400b-9ddc-04cb56c1bef8"
      },
      "source": [
        "randomforest_accuracy=accuracy_score(Y_pred,Y_test)\n",
        "randomforest_accuracy"
      ],
      "execution_count": null,
      "outputs": [
        {
          "output_type": "execute_result",
          "data": {
            "text/plain": [
              "0.9943074003795066"
            ]
          },
          "metadata": {
            "tags": []
          },
          "execution_count": 87
        }
      ]
    },
    {
      "cell_type": "markdown",
      "metadata": {
        "id": "sJKlSU02UMKc"
      },
      "source": [
        "Acuracy with Random Forest is 99%\n"
      ]
    },
    {
      "cell_type": "code",
      "metadata": {
        "id": "XlXuNkMsUMKc",
        "outputId": "cf16d3e4-df3a-4a89-a7ab-43b408a076e1"
      },
      "source": [
        "##Random Forest report and analysis\n",
        "from sklearn import metrics\n",
        "random_forest_f1 = metrics.f1_score(Y_test,Y_pred ,average= \"weighted\")\n",
        "random_forest_accuracy = metrics.accuracy_score(Y_test, Y_pred)\n",
        "random_forest_cm = metrics.confusion_matrix(Y_test, Y_pred)\n",
        "print(\"-----------------Random Forest Report---------------\")\n",
        "print(\"F1 score: {}\".format(random_forest_f1))\n",
        "print(\"Accuracy score: {}\".format(random_forest_accuracy))\n",
        "print(\"Confusion matrix: \\n\", random_forest_cm)\n",
        "\n",
        "import seaborn as sns\n",
        "plt.subplots(figsize=(4,4))\n",
        "conf_matrix =  metrics.confusion_matrix(y_pred=Y_pred,y_true=Y_test)\n",
        "sns.heatmap(conf_matrix,annot=True,fmt=\".1f\",linewidths=1.5)\n",
        "plt.xlabel(\"Predicted Label\")\n",
        "plt.ylabel(\"Actual Label\")\n",
        "plt.show()"
      ],
      "execution_count": null,
      "outputs": [
        {
          "output_type": "stream",
          "text": [
            "-----------------Random Forest Report---------------\n",
            "F1 score: 0.9942953918889977\n",
            "Accuracy score: 0.9943074003795066\n",
            "Confusion matrix: \n",
            " [[175   3]\n",
            " [  0 349]]\n"
          ],
          "name": "stdout"
        },
        {
          "output_type": "display_data",
          "data": {
            "image/png": "[encoded data removed]",
            "text/plain": [
              "<Figure size 288x288 with 2 Axes>"
            ]
          },
          "metadata": {
            "tags": []
          }
        }
      ]
    },
    {
      "cell_type": "markdown",
      "metadata": {
        "id": "o9Ncp8CSUMKd"
      },
      "source": [
        "#### Accuracy Plotting for classification models"
      ]
    },
    {
      "cell_type": "code",
      "metadata": {
        "id": "P1WddfpGUMKd",
        "outputId": "ed6fb6e6-67a9-4de3-99e6-828ce785bd0d"
      },
      "source": [
        "import pandas as pd \n",
        "import numpy as np\n",
        "\n",
        "objects = ('log_reg','svm','Naive_bayes','Knn','dtree','random_forest')\n",
        "y_pos = np.arange(len(objects))\n",
        "\n",
        "lr   = format(lr_accuracy*100)\n",
        "svm  = format(svm_accuracy*100)\n",
        "Nb   = format(nb_accuracy*100)\n",
        "Knn  = format(knn_accuracy*100)\n",
        "dt   = format(dt_accuracy*100)\n",
        "rf   = format(randomforest_accuracy*100)\n",
        "\n",
        "model_data = [lr,svm,Nb,Knn,dt,rf]\n",
        "\n",
        "#position = [91,92,93,94,95,96,97,98,99,100]\n",
        "plt.plot(y_pos,model_data, alpha=1.00)\n",
        "plt.xticks(y_pos,objects)\n",
        "plt.show()"
      ],
      "execution_count": null,
      "outputs": [
        {
          "output_type": "display_data",
          "data": {
            "image/png": "[encoded data removed]",
            "text/plain": [
              "<Figure size 432x288 with 1 Axes>"
            ]
          },
          "metadata": {
            "tags": []
          }
        }
      ]
    },
    {
      "cell_type": "code",
      "metadata": {
        "id": "v58DD1fHUMKd"
      },
      "source": [
        ""
      ],
      "execution_count": null,
      "outputs": []
    }
  ]
}